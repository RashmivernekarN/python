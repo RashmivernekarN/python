{
 "cells": [
  {
   "cell_type": "code",
   "execution_count": 6,
   "metadata": {},
   "outputs": [
    {
     "ename": "ValueError",
     "evalue": "x and y must be the same size",
     "output_type": "error",
     "traceback": [
      "\u001b[1;31m---------------------------------------------------------------------------\u001b[0m",
      "\u001b[1;31mValueError\u001b[0m                                Traceback (most recent call last)",
      "\u001b[1;32mc:\\Users\\User3\\Desktop\\R_Exam\\scatter.ipynb Cell 1\u001b[0m in \u001b[0;36m<cell line: 5>\u001b[1;34m()\u001b[0m\n\u001b[0;32m      <a href='vscode-notebook-cell:/c%3A/Users/User3/Desktop/R_Exam/scatter.ipynb#ch0000000?line=2'>3</a>\u001b[0m exp\u001b[39m=\u001b[39m[\u001b[39m10\u001b[39m,\u001b[39m15\u001b[39m,\u001b[39m20\u001b[39m,\u001b[39m25\u001b[39m,\u001b[39m30\u001b[39m,\u001b[39m35\u001b[39m]\n\u001b[0;32m      <a href='vscode-notebook-cell:/c%3A/Users/User3/Desktop/R_Exam/scatter.ipynb#ch0000000?line=3'>4</a>\u001b[0m salary\u001b[39m=\u001b[39m[\u001b[39m10000\u001b[39m,\u001b[39m15000\u001b[39m,\u001b[39m20000\u001b[39m,\u001b[39m25000\u001b[39m,\u001b[39m30000\u001b[39m]\n\u001b[1;32m----> <a href='vscode-notebook-cell:/c%3A/Users/User3/Desktop/R_Exam/scatter.ipynb#ch0000000?line=4'>5</a>\u001b[0m plt\u001b[39m.\u001b[39;49mscatter(name,exp,salary)\n\u001b[0;32m      <a href='vscode-notebook-cell:/c%3A/Users/User3/Desktop/R_Exam/scatter.ipynb#ch0000000?line=5'>6</a>\u001b[0m plt\u001b[39m.\u001b[39mshow()\n",
      "File \u001b[1;32mc:\\ProgramData\\Anaconda3\\lib\\site-packages\\matplotlib\\pyplot.py:2807\u001b[0m, in \u001b[0;36mscatter\u001b[1;34m(x, y, s, c, marker, cmap, norm, vmin, vmax, alpha, linewidths, edgecolors, plotnonfinite, data, **kwargs)\u001b[0m\n\u001b[0;32m   2802\u001b[0m \u001b[39m@_copy_docstring_and_deprecators\u001b[39m(Axes\u001b[39m.\u001b[39mscatter)\n\u001b[0;32m   2803\u001b[0m \u001b[39mdef\u001b[39;00m \u001b[39mscatter\u001b[39m(\n\u001b[0;32m   2804\u001b[0m         x, y, s\u001b[39m=\u001b[39m\u001b[39mNone\u001b[39;00m, c\u001b[39m=\u001b[39m\u001b[39mNone\u001b[39;00m, marker\u001b[39m=\u001b[39m\u001b[39mNone\u001b[39;00m, cmap\u001b[39m=\u001b[39m\u001b[39mNone\u001b[39;00m, norm\u001b[39m=\u001b[39m\u001b[39mNone\u001b[39;00m,\n\u001b[0;32m   2805\u001b[0m         vmin\u001b[39m=\u001b[39m\u001b[39mNone\u001b[39;00m, vmax\u001b[39m=\u001b[39m\u001b[39mNone\u001b[39;00m, alpha\u001b[39m=\u001b[39m\u001b[39mNone\u001b[39;00m, linewidths\u001b[39m=\u001b[39m\u001b[39mNone\u001b[39;00m, \u001b[39m*\u001b[39m,\n\u001b[0;32m   2806\u001b[0m         edgecolors\u001b[39m=\u001b[39m\u001b[39mNone\u001b[39;00m, plotnonfinite\u001b[39m=\u001b[39m\u001b[39mFalse\u001b[39;00m, data\u001b[39m=\u001b[39m\u001b[39mNone\u001b[39;00m, \u001b[39m*\u001b[39m\u001b[39m*\u001b[39mkwargs):\n\u001b[1;32m-> 2807\u001b[0m     __ret \u001b[39m=\u001b[39m gca()\u001b[39m.\u001b[39mscatter(\n\u001b[0;32m   2808\u001b[0m         x, y, s\u001b[39m=\u001b[39ms, c\u001b[39m=\u001b[39mc, marker\u001b[39m=\u001b[39mmarker, cmap\u001b[39m=\u001b[39mcmap, norm\u001b[39m=\u001b[39mnorm,\n\u001b[0;32m   2809\u001b[0m         vmin\u001b[39m=\u001b[39mvmin, vmax\u001b[39m=\u001b[39mvmax, alpha\u001b[39m=\u001b[39malpha, linewidths\u001b[39m=\u001b[39mlinewidths,\n\u001b[0;32m   2810\u001b[0m         edgecolors\u001b[39m=\u001b[39medgecolors, plotnonfinite\u001b[39m=\u001b[39mplotnonfinite,\n\u001b[0;32m   2811\u001b[0m         \u001b[39m*\u001b[39m\u001b[39m*\u001b[39m({\u001b[39m\"\u001b[39m\u001b[39mdata\u001b[39m\u001b[39m\"\u001b[39m: data} \u001b[39mif\u001b[39;00m data \u001b[39mis\u001b[39;00m \u001b[39mnot\u001b[39;00m \u001b[39mNone\u001b[39;00m \u001b[39melse\u001b[39;00m {}), \u001b[39m*\u001b[39m\u001b[39m*\u001b[39mkwargs)\n\u001b[0;32m   2812\u001b[0m     sci(__ret)\n\u001b[0;32m   2813\u001b[0m     \u001b[39mreturn\u001b[39;00m __ret\n",
      "File \u001b[1;32mc:\\ProgramData\\Anaconda3\\lib\\site-packages\\matplotlib\\__init__.py:1412\u001b[0m, in \u001b[0;36m_preprocess_data.<locals>.inner\u001b[1;34m(ax, data, *args, **kwargs)\u001b[0m\n\u001b[0;32m   1409\u001b[0m \u001b[39m@functools\u001b[39m\u001b[39m.\u001b[39mwraps(func)\n\u001b[0;32m   1410\u001b[0m \u001b[39mdef\u001b[39;00m \u001b[39minner\u001b[39m(ax, \u001b[39m*\u001b[39margs, data\u001b[39m=\u001b[39m\u001b[39mNone\u001b[39;00m, \u001b[39m*\u001b[39m\u001b[39m*\u001b[39mkwargs):\n\u001b[0;32m   1411\u001b[0m     \u001b[39mif\u001b[39;00m data \u001b[39mis\u001b[39;00m \u001b[39mNone\u001b[39;00m:\n\u001b[1;32m-> 1412\u001b[0m         \u001b[39mreturn\u001b[39;00m func(ax, \u001b[39m*\u001b[39m\u001b[39mmap\u001b[39m(sanitize_sequence, args), \u001b[39m*\u001b[39m\u001b[39m*\u001b[39mkwargs)\n\u001b[0;32m   1414\u001b[0m     bound \u001b[39m=\u001b[39m new_sig\u001b[39m.\u001b[39mbind(ax, \u001b[39m*\u001b[39margs, \u001b[39m*\u001b[39m\u001b[39m*\u001b[39mkwargs)\n\u001b[0;32m   1415\u001b[0m     auto_label \u001b[39m=\u001b[39m (bound\u001b[39m.\u001b[39marguments\u001b[39m.\u001b[39mget(label_namer)\n\u001b[0;32m   1416\u001b[0m                   \u001b[39mor\u001b[39;00m bound\u001b[39m.\u001b[39mkwargs\u001b[39m.\u001b[39mget(label_namer))\n",
      "File \u001b[1;32mc:\\ProgramData\\Anaconda3\\lib\\site-packages\\matplotlib\\axes\\_axes.py:4369\u001b[0m, in \u001b[0;36mAxes.scatter\u001b[1;34m(self, x, y, s, c, marker, cmap, norm, vmin, vmax, alpha, linewidths, edgecolors, plotnonfinite, **kwargs)\u001b[0m\n\u001b[0;32m   4367\u001b[0m y \u001b[39m=\u001b[39m np\u001b[39m.\u001b[39mma\u001b[39m.\u001b[39mravel(y)\n\u001b[0;32m   4368\u001b[0m \u001b[39mif\u001b[39;00m x\u001b[39m.\u001b[39msize \u001b[39m!=\u001b[39m y\u001b[39m.\u001b[39msize:\n\u001b[1;32m-> 4369\u001b[0m     \u001b[39mraise\u001b[39;00m \u001b[39mValueError\u001b[39;00m(\u001b[39m\"\u001b[39m\u001b[39mx and y must be the same size\u001b[39m\u001b[39m\"\u001b[39m)\n\u001b[0;32m   4371\u001b[0m \u001b[39mif\u001b[39;00m s \u001b[39mis\u001b[39;00m \u001b[39mNone\u001b[39;00m:\n\u001b[0;32m   4372\u001b[0m     s \u001b[39m=\u001b[39m (\u001b[39m20\u001b[39m \u001b[39mif\u001b[39;00m rcParams[\u001b[39m'\u001b[39m\u001b[39m_internal.classic_mode\u001b[39m\u001b[39m'\u001b[39m] \u001b[39melse\u001b[39;00m\n\u001b[0;32m   4373\u001b[0m          rcParams[\u001b[39m'\u001b[39m\u001b[39mlines.markersize\u001b[39m\u001b[39m'\u001b[39m] \u001b[39m*\u001b[39m\u001b[39m*\u001b[39m \u001b[39m2.0\u001b[39m)\n",
      "\u001b[1;31mValueError\u001b[0m: x and y must be the same size"
     ]
    },
    {
     "data": {
      "image/png": "[encoded data removed]",
      "text/plain": [
       "<Figure size 432x288 with 1 Axes>"
      ]
     },
     "metadata": {
      "needs_background": "light"
     },
     "output_type": "display_data"
    }
   ],
   "source": [
    " import matplotlib.pyplot as plt \n",
    " name=['a','b','c','d','e']\n",
    " exp=[10,15,20,25,30,35]\n",
    " salary=[10000,15000,20000,25000,30000]\n",
    " plt.scatter(name,exp,salary)\n",
    " plt.show()\n",
    " "
   ]
  },
  {
   "cell_type": "code",
   "execution_count": 4,
   "metadata": {},
   "outputs": [
    {
     "name": "stdout",
     "output_type": "stream",
     "text": [
      "(array([0, 0, 1, 1], dtype=int64), array([0, 1, 0, 1], dtype=int64))\n"
     ]
    }
   ],
   "source": [
    "import random\n",
    "import numpy as np\n",
    "a=np.random.randn(2,3)\n",
    "b=np.where(a>0)\n",
    "print(b)\n"
   ]
  },
  {
   "cell_type": "code",
   "execution_count": 10,
   "metadata": {},
   "outputs": [
    {
     "ename": "TypeError",
     "evalue": "Field elements must be 2- or 3-tuples, got ''name''",
     "output_type": "error",
     "traceback": [
      "\u001b[1;31m---------------------------------------------------------------------------\u001b[0m",
      "\u001b[1;31mTypeError\u001b[0m                                 Traceback (most recent call last)",
      "\u001b[1;32mc:\\Users\\User3\\Desktop\\R_Exam\\scatter.ipynb Cell 3\u001b[0m in \u001b[0;36m<cell line: 4>\u001b[1;34m()\u001b[0m\n\u001b[0;32m      <a href='vscode-notebook-cell:/c%3A/Users/User3/Desktop/R_Exam/scatter.ipynb#ch0000002?line=1'>2</a>\u001b[0m datatype\u001b[39m=\u001b[39m[(\u001b[39m'\u001b[39m\u001b[39mname\u001b[39m\u001b[39m'\u001b[39m),(\u001b[39m'\u001b[39m\u001b[39mclass\u001b[39m\u001b[39m'\u001b[39m,\u001b[39mint\u001b[39m)]\n\u001b[0;32m      <a href='vscode-notebook-cell:/c%3A/Users/User3/Desktop/R_Exam/scatter.ipynb#ch0000002?line=2'>3</a>\u001b[0m student_detail\u001b[39m=\u001b[39m[(\u001b[39m'\u001b[39m\u001b[39mabc\u001b[39m\u001b[39m'\u001b[39m,\u001b[39m5\u001b[39m),(\u001b[39m'\u001b[39m\u001b[39mxyz\u001b[39m\u001b[39m'\u001b[39m,\u001b[39m6\u001b[39m),(\u001b[39m'\u001b[39m\u001b[39mpqr\u001b[39m\u001b[39m'\u001b[39m,\u001b[39m5\u001b[39m)] \n\u001b[1;32m----> <a href='vscode-notebook-cell:/c%3A/Users/User3/Desktop/R_Exam/scatter.ipynb#ch0000002?line=3'>4</a>\u001b[0m student\u001b[39m=\u001b[39mnp\u001b[39m.\u001b[39;49marray(student_detail,dtype\u001b[39m=\u001b[39;49mdatatype)\n\u001b[0;32m      <a href='vscode-notebook-cell:/c%3A/Users/User3/Desktop/R_Exam/scatter.ipynb#ch0000002?line=4'>5</a>\u001b[0m \u001b[39mprint\u001b[39m(\u001b[39m\"\u001b[39m\u001b[39moriginal array\u001b[39m\u001b[39m\"\u001b[39m)\n\u001b[0;32m      <a href='vscode-notebook-cell:/c%3A/Users/User3/Desktop/R_Exam/scatter.ipynb#ch0000002?line=5'>6</a>\u001b[0m \u001b[39mprint\u001b[39m(student)\n",
      "\u001b[1;31mTypeError\u001b[0m: Field elements must be 2- or 3-tuples, got ''name''"
     ]
    }
   ],
   "source": [
    "import numpy as np\n",
    "datatype=[('name'),('class',int)]\n",
    "student_detail=[('abc',5),('xyz',6),('pqr',5)] \n",
    "student=np.array(student_detail,dtype=datatype)\n",
    "print(\"original array\")\n",
    "print(student)\n",
    "print(\"sort by class\")\n",
    "print(np.sort(student,order='class'))"
   ]
  },
  {
   "cell_type": "code",
   "execution_count": 11,
   "metadata": {},
   "outputs": [
    {
     "ename": "AttributeError",
     "evalue": "module 'matplotlib.pyplot' has no attribute 'subpplots'",
     "output_type": "error",
     "traceback": [
      "\u001b[1;31m---------------------------------------------------------------------------\u001b[0m",
      "\u001b[1;31mAttributeError\u001b[0m                            Traceback (most recent call last)",
      "\u001b[1;32mc:\\Users\\User3\\Desktop\\R_Exam\\scatter.ipynb Cell 4\u001b[0m in \u001b[0;36m<cell line: 5>\u001b[1;34m()\u001b[0m\n\u001b[0;32m      <a href='vscode-notebook-cell:/c%3A/Users/User3/Desktop/R_Exam/scatter.ipynb#ch0000003?line=2'>3</a>\u001b[0m a\u001b[39m=\u001b[39mnp\u001b[39m.\u001b[39marray([\u001b[39m22\u001b[39m,\u001b[39m87\u001b[39m,\u001b[39m5\u001b[39m,\u001b[39m43\u001b[39m,\u001b[39m56\u001b[39m,\u001b[39m73\u001b[39m,\u001b[39m55\u001b[39m,\u001b[39m54\u001b[39m,\u001b[39m11\u001b[39m,\u001b[39m20\u001b[39m,\u001b[39m51\u001b[39m,\u001b[39m5\u001b[39m,\u001b[39m79\u001b[39m,\u001b[39m31\u001b[39m,\u001b[39m27\u001b[39m])\n\u001b[0;32m      <a href='vscode-notebook-cell:/c%3A/Users/User3/Desktop/R_Exam/scatter.ipynb#ch0000003?line=3'>4</a>\u001b[0m \u001b[39m#creating histogram.\u001b[39;00m\n\u001b[1;32m----> <a href='vscode-notebook-cell:/c%3A/Users/User3/Desktop/R_Exam/scatter.ipynb#ch0000003?line=4'>5</a>\u001b[0m fig,ax\u001b[39m=\u001b[39mplt\u001b[39m.\u001b[39;49msubpplots(figsize\u001b[39m=\u001b[39m(\u001b[39m10\u001b[39m,\u001b[39m7\u001b[39m))\n\u001b[0;32m      <a href='vscode-notebook-cell:/c%3A/Users/User3/Desktop/R_Exam/scatter.ipynb#ch0000003?line=5'>6</a>\u001b[0m ax\u001b[39m.\u001b[39mhist(a,bins\u001b[39m=\u001b[39m[\u001b[39m0\u001b[39m,\u001b[39m25\u001b[39m,\u001b[39m50\u001b[39m,\u001b[39m75\u001b[39m,\u001b[39m100\u001b[39m])\n\u001b[0;32m      <a href='vscode-notebook-cell:/c%3A/Users/User3/Desktop/R_Exam/scatter.ipynb#ch0000003?line=6'>7</a>\u001b[0m \u001b[39m#show plot\u001b[39;00m\n",
      "\u001b[1;31mAttributeError\u001b[0m: module 'matplotlib.pyplot' has no attribute 'subpplots'"
     ]
    }
   ],
   "source": [
    "import numpy as np\n",
    "#creating dataset\n",
    "a=np.array([22,87,5,43,56,73,55,54,11,20,51,5,79,31,27])\n",
    "#creating histogram.\n",
    "fig,ax=plt.subpplots(figsize=(10,7))\n",
    "ax.hist(a,bins=[0,25,50,75,100])\n",
    "#show plot\n",
    "plt.show()\n"
   ]
  },
  {
   "cell_type": "code",
   "execution_count": 12,
   "metadata": {},
   "outputs": [
    {
     "ename": "SyntaxError",
     "evalue": "leading zeros in decimal integer literals are not permitted; use an 0o prefix for octal integers (1140650670.py, line 6)",
     "output_type": "error",
     "traceback": [
      "\u001b[1;36m  Input \u001b[1;32mIn [12]\u001b[1;36m\u001b[0m\n\u001b[1;33m    axis([02*pi-1.5 1-5])\u001b[0m\n\u001b[1;37m           ^\u001b[0m\n\u001b[1;31mSyntaxError\u001b[0m\u001b[1;31m:\u001b[0m leading zeros in decimal integer literals are not permitted; use an 0o prefix for octal integers\n"
     ]
    }
   ],
   "source": [
    "t=0,0.01(2*pi);\n",
    "x=cos(t)\n",
    "y=sin(t)\n",
    "plot(t,x,'k');\n",
    "plot(t,y,'r-.');\n",
    "axis([02*pi-1.5 1-5])\n",
    "legend('cos(t)','sin(t)','location','northeast')\n",
    "\n"
   ]
  },
  {
   "cell_type": "code",
   "execution_count": 14,
   "metadata": {},
   "outputs": [
    {
     "ename": "SyntaxError",
     "evalue": "invalid syntax (3149728674.py, line 1)",
     "output_type": "error",
     "traceback": [
      "\u001b[1;36m  Input \u001b[1;32mIn [14]\u001b[1;36m\u001b[0m\n\u001b[1;33m    x b\u001b[0m\n\u001b[1;37m      ^\u001b[0m\n\u001b[1;31mSyntaxError\u001b[0m\u001b[1;31m:\u001b[0m invalid syntax\n"
     ]
    }
   ],
   "source": [
    "x b\n",
    "a=randn()\n",
    "a=-1.0804\n",
    "f=sin(a*x+b);\n",
    "fsurf(f,[-10.10-2*pi 2*pi])\n",
    "xlabel('x')ylabel('b')"
   ]
  },
  {
   "cell_type": "code",
   "execution_count": 1,
   "metadata": {},
   "outputs": [
    {
     "data": {
      "image/png": "[encoded data removed]",
      "text/plain": [
       "<Figure size 432x288 with 1 Axes>"
      ]
     },
     "metadata": {
      "needs_background": "light"
     },
     "output_type": "display_data"
    }
   ],
   "source": [
    "import matplotlib.pyplot as plt\n",
    "\n",
    "price = [2.50, 1.23, 4.02, 3.25, 5.00, 4.40]\n",
    "sales_per_day = [34, 62, 49, 22, 13, 19]\n",
    "\n",
    "plt.scatter(price, sales_per_day)\n",
    "plt.show()"
   ]
  },
  {
   "cell_type": "code",
   "execution_count": 2,
   "metadata": {},
   "outputs": [
    {
     "data": {
      "image/png": "[encoded data removed]",
      "text/plain": [
       "<Figure size 432x288 with 1 Axes>"
      ]
     },
     "metadata": {
      "needs_background": "light"
     },
     "output_type": "display_data"
    }
   ],
   "source": [
    "plt.plot(price, sales_per_day, \"o\")\n",
    "plt.show()"
   ]
  },
  {
   "cell_type": "code",
   "execution_count": 3,
   "metadata": {},
   "outputs": [
    {
     "name": "stdout",
     "output_type": "stream",
     "text": [
      "plt.scatter() 1.7850554000000045\n",
      "plt.plot() 0.3234660999999903\n"
     ]
    },
    {
     "data": {
      "image/png": "[encoded data removed]",
      "text/plain": [
       "<Figure size 432x288 with 1 Axes>"
      ]
     },
     "metadata": {
      "needs_background": "light"
     },
     "output_type": "display_data"
    }
   ],
   "source": [
    "import timeit\n",
    "import matplotlib.pyplot as plt\n",
    "\n",
    "price = [2.50, 1.23, 4.02, 3.25, 5.00, 4.40]\n",
    "sales_per_day = [34, 62, 49, 22, 13, 19]\n",
    "\n",
    "print(\n",
    "    \"plt.scatter()\",\n",
    "    timeit.timeit(\n",
    "        \"plt.scatter(price, sales_per_day)\",\n",
    "        number=1000,\n",
    "        globals=globals(),\n",
    "    ),\n",
    ")\n",
    "print(\n",
    "    \"plt.plot()\",\n",
    "    timeit.timeit(\n",
    "        \"plt.plot(price, sales_per_day, 'o')\",\n",
    "        number=1000,\n",
    "        globals=globals(),\n",
    "    ),\n",
    ")"
   ]
  },
  {
   "cell_type": "code",
   "execution_count": 4,
   "metadata": {},
   "outputs": [
    {
     "data": {
      "image/png": "[encoded data removed]",
      "text/plain": [
       "<Figure size 432x288 with 1 Axes>"
      ]
     },
     "metadata": {
      "needs_background": "light"
     },
     "output_type": "display_data"
    }
   ],
   "source": [
    "import matplotlib.pyplot as plt\n",
    "import numpy as np\n",
    "\n",
    "price = np.asarray([2.50, 1.23, 4.02, 3.25, 5.00, 4.40])\n",
    "sales_per_day = np.asarray([34, 62, 49, 22, 13, 19])\n",
    "profit_margin = np.asarray([20, 35, 40, 20, 27.5, 15])\n",
    "\n",
    "plt.scatter(x=price, y=sales_per_day, s=profit_margin * 10)\n",
    "plt.show()"
   ]
  },
  {
   "cell_type": "code",
   "execution_count": 5,
   "metadata": {},
   "outputs": [
    {
     "data": {
      "image/png": "[encoded data removed]",
      "text/plain": [
       "<Figure size 432x288 with 1 Axes>"
      ]
     },
     "metadata": {
      "needs_background": "light"
     },
     "output_type": "display_data"
    }
   ],
   "source": [
    "# ...\n",
    "\n",
    "low = (0, 1, 0)\n",
    "medium = (1, 1, 0)\n",
    "high = (1, 0, 0)\n",
    "\n",
    "sugar_content = [low, high, medium, medium, high, low]\n",
    "\n",
    "plt.scatter(\n",
    "    x=price,\n",
    "    y=sales_per_day,\n",
    "    s=profit_margin * 10,\n",
    "    c=sugar_content,\n",
    ")\n",
    "plt.show()"
   ]
  },
  {
   "cell_type": "code",
   "execution_count": 6,
   "metadata": {},
   "outputs": [
    {
     "data": {
      "image/png": "[encoded data removed]",
      "text/plain": [
       "<Figure size 432x288 with 1 Axes>"
      ]
     },
     "metadata": {
      "needs_background": "light"
     },
     "output_type": "display_data"
    }
   ],
   "source": [
    "import matplotlib.pyplot as plt\n",
    "import numpy as np\n",
    "\n",
    "low = (0, 1, 0)\n",
    "medium = (1, 1, 0)\n",
    "high = (1, 0, 0)\n",
    "\n",
    "price_orange = np.asarray([2.50, 1.23, 4.02, 3.25, 5.00, 4.40])\n",
    "sales_per_day_orange = np.asarray([34, 62, 49, 22, 13, 19])\n",
    "profit_margin_orange = np.asarray([20, 35, 40, 20, 27.5, 15])\n",
    "sugar_content_orange = [low, high, medium, medium, high, low]\n",
    "\n",
    "price_cereal = np.asarray([1.50, 2.50, 1.15, 1.95])\n",
    "sales_per_day_cereal = np.asarray([67, 34, 36, 12])\n",
    "profit_margin_cereal = np.asarray([20, 42.5, 33.3, 18])\n",
    "sugar_content_cereal = [low, high, medium, low]\n",
    "\n",
    "plt.scatter(\n",
    "    x=price_orange,\n",
    "    y=sales_per_day_orange,\n",
    "    s=profit_margin_orange * 10,\n",
    "    c=sugar_content_orange,\n",
    ")\n",
    "plt.scatter(\n",
    "    x=price_cereal,\n",
    "    y=sales_per_day_cereal,\n",
    "    s=profit_margin_cereal * 10,\n",
    "    c=sugar_content_cereal,\n",
    ")\n",
    "plt.show()"
   ]
  },
  {
   "cell_type": "code",
   "execution_count": 7,
   "metadata": {},
   "outputs": [
    {
     "data": {
      "image/png": "[encoded data removed]",
      "text/plain": [
       "<Figure size 432x288 with 1 Axes>"
      ]
     },
     "metadata": {
      "needs_background": "light"
     },
     "output_type": "display_data"
    }
   ],
   "source": [
    "import matplotlib.pyplot as plt\n",
    "import numpy as np\n",
    "\n",
    "low = (0, 1, 0)\n",
    "medium = (1, 1, 0)\n",
    "high = (1, 0, 0)\n",
    "\n",
    "price_orange = np.asarray([2.50, 1.23, 4.02, 3.25, 5.00, 4.40])\n",
    "sales_per_day_orange = np.asarray([34, 62, 49, 22, 13, 19])\n",
    "profit_margin_orange = np.asarray([20, 35, 40, 20, 27.5, 15])\n",
    "sugar_content_orange = [low, high, medium, medium, high, low]\n",
    "\n",
    "price_cereal = np.asarray([1.50, 2.50, 1.15, 1.95])\n",
    "sales_per_day_cereal = np.asarray([67, 34, 36, 12])\n",
    "profit_margin_cereal = np.asarray([20, 42.5, 33.3, 18])\n",
    "sugar_content_cereal = [low, high, medium, low]\n",
    "\n",
    "plt.scatter(\n",
    "    x=price_orange,\n",
    "    y=sales_per_day_orange,\n",
    "    s=profit_margin_orange * 10,\n",
    "    c=sugar_content_orange,\n",
    ")\n",
    "plt.scatter(\n",
    "    x=price_cereal,\n",
    "    y=sales_per_day_cereal,\n",
    "    s=profit_margin_cereal * 10,\n",
    "    c=sugar_content_cereal,\n",
    "    marker=\"d\",\n",
    ")\n",
    "plt.show()"
   ]
  },
  {
   "cell_type": "code",
   "execution_count": 8,
   "metadata": {},
   "outputs": [
    {
     "data": {
      "image/png": "[encoded data removed]",
      "text/plain": [
       "<Figure size 432x288 with 1 Axes>"
      ]
     },
     "metadata": {
      "needs_background": "light"
     },
     "output_type": "display_data"
    }
   ],
   "source": [
    "# ...\n",
    "\n",
    "plt.scatter(\n",
    "    x=price_orange,\n",
    "    y=sales_per_day_orange,\n",
    "    s=profit_margin_orange * 10,\n",
    "    c=sugar_content_orange,\n",
    "    alpha=0.5,\n",
    ")\n",
    "plt.scatter(\n",
    "    x=price_cereal,\n",
    "    y=sales_per_day_cereal,\n",
    "    s=profit_margin_cereal * 10,\n",
    "    c=sugar_content_cereal,\n",
    "    marker=\"d\",\n",
    "    alpha=0.5,\n",
    ")\n",
    "\n",
    "plt.title(\"Sales vs Prices for Orange Drinks and Cereal Bars\")\n",
    "plt.legend([\"Orange Drinks\", \"Cereal Bars\"])\n",
    "plt.xlabel(\"Price (Currency Unit)\")\n",
    "plt.ylabel(\"Average weekly sales\")\n",
    "plt.text(\n",
    "    3.2,\n",
    "    55,\n",
    "    \"Size of marker = profit margin\\n\" \"Color of marker = sugar content\",\n",
    ")\n",
    "\n",
    "plt.show()"
   ]
  },
  {
   "cell_type": "code",
   "execution_count": 9,
   "metadata": {},
   "outputs": [],
   "source": [
    "sugar_content_orange = [15, 35, 22, 27, 38, 14]\n",
    "sugar_content_cereal = [21, 49, 29, 24]"
   ]
  },
  {
   "cell_type": "code",
   "execution_count": 10,
   "metadata": {},
   "outputs": [
    {
     "data": {
      "image/png": "[encoded data removed]",
      "text/plain": [
       "<Figure size 432x288 with 2 Axes>"
      ]
     },
     "metadata": {
      "needs_background": "light"
     },
     "output_type": "display_data"
    }
   ],
   "source": [
    "# ...\n",
    "\n",
    "plt.scatter(\n",
    "    x=price_orange,\n",
    "    y=sales_per_day_orange,\n",
    "    s=profit_margin_orange * 10,\n",
    "    c=sugar_content_orange,\n",
    "    cmap=\"jet\",\n",
    "    alpha=0.5,\n",
    ")\n",
    "plt.scatter(\n",
    "    x=price_cereal,\n",
    "    y=sales_per_day_cereal,\n",
    "    s=profit_margin_cereal * 10,\n",
    "    c=sugar_content_cereal,\n",
    "    cmap=\"jet\",\n",
    "    marker=\"d\",\n",
    "    alpha=0.5,\n",
    ")\n",
    "\n",
    "plt.title(\"Sales vs Prices for Orange Drinks and Cereal Bars\")\n",
    "plt.legend([\"Orange Drinks\", \"Cereal Bars\"])\n",
    "plt.xlabel(\"Price (Currency Unit)\")\n",
    "plt.ylabel(\"Average weekly sales\")\n",
    "plt.text(\n",
    "    2.7,\n",
    "    55,\n",
    "    \"Size of marker = profit margin\\n\" \"Color of marker = sugar content\",\n",
    ")\n",
    "plt.colorbar()\n",
    "\n",
    "plt.show()"
   ]
  },
  {
   "cell_type": "code",
   "execution_count": 11,
   "metadata": {},
   "outputs": [
    {
     "data": {
      "text/plain": [
       "['Solarize_Light2',\n",
       " '_classic_test_patch',\n",
       " 'bmh',\n",
       " 'classic',\n",
       " 'dark_background',\n",
       " 'fast',\n",
       " 'fivethirtyeight',\n",
       " 'ggplot',\n",
       " 'grayscale',\n",
       " 'seaborn',\n",
       " 'seaborn-bright',\n",
       " 'seaborn-colorblind',\n",
       " 'seaborn-dark',\n",
       " 'seaborn-dark-palette',\n",
       " 'seaborn-darkgrid',\n",
       " 'seaborn-deep',\n",
       " 'seaborn-muted',\n",
       " 'seaborn-notebook',\n",
       " 'seaborn-paper',\n",
       " 'seaborn-pastel',\n",
       " 'seaborn-poster',\n",
       " 'seaborn-talk',\n",
       " 'seaborn-ticks',\n",
       " 'seaborn-white',\n",
       " 'seaborn-whitegrid',\n",
       " 'tableau-colorblind10']"
      ]
     },
     "execution_count": 11,
     "metadata": {},
     "output_type": "execute_result"
    }
   ],
   "source": [
    ">>> plt.style.available\n",
    "[\n",
    "    \"Solarize_Light2\",\n",
    "    \"_classic_test_patch\",\n",
    "    \"bmh\",\n",
    "    \"classic\",\n",
    "    \"dark_background\",\n",
    "    \"fast\",\n",
    "    \"fivethirtyeight\",\n",
    "    \"ggplot\",\n",
    "    \"grayscale\",\n",
    "    \"seaborn\",\n",
    "    \"seaborn-bright\",\n",
    "    \"seaborn-colorblind\",\n",
    "    \"seaborn-dark\",\n",
    "    \"seaborn-dark-palette\",\n",
    "    \"seaborn-darkgrid\",\n",
    "    \"seaborn-deep\",\n",
    "    \"seaborn-muted\",\n",
    "    \"seaborn-notebook\",\n",
    "    \"seaborn-paper\",\n",
    "    \"seaborn-pastel\",\n",
    "    \"seaborn-poster\",\n",
    "    \"seaborn-talk\",\n",
    "    \"seaborn-ticks\",\n",
    "    \"seaborn-white\",\n",
    "    \"seaborn-whitegrid\",\n",
    "    \"tableau-colorblind10\",\n",
    "]"
   ]
  },
  {
   "cell_type": "code",
   "execution_count": 12,
   "metadata": {},
   "outputs": [],
   "source": [
    "import matplotlib.pyplot as plt\n",
    "import numpy as np\n",
    "\n",
    "plt.style.use(\"seaborn\")\n",
    "\n",
    "# ..."
   ]
  },
  {
   "cell_type": "code",
   "execution_count": 13,
   "metadata": {},
   "outputs": [
    {
     "ename": "FileNotFoundError",
     "evalue": "[Errno 2] No such file or directory: 'D:\\\\ProjectData\\\\apples_and_oranges.csv'",
     "output_type": "error",
     "traceback": [
      "\u001b[1;31m---------------------------------------------------------------------------\u001b[0m",
      "\u001b[1;31mFileNotFoundError\u001b[0m                         Traceback (most recent call last)",
      "\u001b[1;32mc:\\Users\\User3\\Desktop\\R_Exam\\scatter.ipynb Cell 19\u001b[0m in \u001b[0;36m<cell line: 2>\u001b[1;34m()\u001b[0m\n\u001b[0;32m      <a href='vscode-notebook-cell:/c%3A/Users/User3/Desktop/R_Exam/scatter.ipynb#ch0000018?line=0'>1</a>\u001b[0m \u001b[39mimport\u001b[39;00m \u001b[39mpandas\u001b[39;00m \u001b[39mas\u001b[39;00m \u001b[39mpd\u001b[39;00m\n\u001b[1;32m----> <a href='vscode-notebook-cell:/c%3A/Users/User3/Desktop/R_Exam/scatter.ipynb#ch0000018?line=1'>2</a>\u001b[0m apples_oranges \u001b[39m=\u001b[39m pd\u001b[39m.\u001b[39;49mread_csv(\u001b[39m\"\u001b[39;49m\u001b[39mD:\u001b[39;49m\u001b[39m\\\u001b[39;49m\u001b[39mProjectData\u001b[39;49m\u001b[39m\\\\\u001b[39;49;00m\u001b[39mapples_and_oranges.csv\u001b[39;49m\u001b[39m\"\u001b[39;49m)\n\u001b[0;32m      <a href='vscode-notebook-cell:/c%3A/Users/User3/Desktop/R_Exam/scatter.ipynb#ch0000018?line=2'>3</a>\u001b[0m apples_oranges\u001b[39m.\u001b[39mhead()\n",
      "File \u001b[1;32mc:\\ProgramData\\Anaconda3\\lib\\site-packages\\pandas\\util\\_decorators.py:311\u001b[0m, in \u001b[0;36mdeprecate_nonkeyword_arguments.<locals>.decorate.<locals>.wrapper\u001b[1;34m(*args, **kwargs)\u001b[0m\n\u001b[0;32m    305\u001b[0m \u001b[39mif\u001b[39;00m \u001b[39mlen\u001b[39m(args) \u001b[39m>\u001b[39m num_allow_args:\n\u001b[0;32m    306\u001b[0m     warnings\u001b[39m.\u001b[39mwarn(\n\u001b[0;32m    307\u001b[0m         msg\u001b[39m.\u001b[39mformat(arguments\u001b[39m=\u001b[39marguments),\n\u001b[0;32m    308\u001b[0m         \u001b[39mFutureWarning\u001b[39;00m,\n\u001b[0;32m    309\u001b[0m         stacklevel\u001b[39m=\u001b[39mstacklevel,\n\u001b[0;32m    310\u001b[0m     )\n\u001b[1;32m--> 311\u001b[0m \u001b[39mreturn\u001b[39;00m func(\u001b[39m*\u001b[39margs, \u001b[39m*\u001b[39m\u001b[39m*\u001b[39mkwargs)\n",
      "File \u001b[1;32mc:\\ProgramData\\Anaconda3\\lib\\site-packages\\pandas\\io\\parsers\\readers.py:680\u001b[0m, in \u001b[0;36mread_csv\u001b[1;34m(filepath_or_buffer, sep, delimiter, header, names, index_col, usecols, squeeze, prefix, mangle_dupe_cols, dtype, engine, converters, true_values, false_values, skipinitialspace, skiprows, skipfooter, nrows, na_values, keep_default_na, na_filter, verbose, skip_blank_lines, parse_dates, infer_datetime_format, keep_date_col, date_parser, dayfirst, cache_dates, iterator, chunksize, compression, thousands, decimal, lineterminator, quotechar, quoting, doublequote, escapechar, comment, encoding, encoding_errors, dialect, error_bad_lines, warn_bad_lines, on_bad_lines, delim_whitespace, low_memory, memory_map, float_precision, storage_options)\u001b[0m\n\u001b[0;32m    665\u001b[0m kwds_defaults \u001b[39m=\u001b[39m _refine_defaults_read(\n\u001b[0;32m    666\u001b[0m     dialect,\n\u001b[0;32m    667\u001b[0m     delimiter,\n\u001b[1;32m   (...)\u001b[0m\n\u001b[0;32m    676\u001b[0m     defaults\u001b[39m=\u001b[39m{\u001b[39m\"\u001b[39m\u001b[39mdelimiter\u001b[39m\u001b[39m\"\u001b[39m: \u001b[39m\"\u001b[39m\u001b[39m,\u001b[39m\u001b[39m\"\u001b[39m},\n\u001b[0;32m    677\u001b[0m )\n\u001b[0;32m    678\u001b[0m kwds\u001b[39m.\u001b[39mupdate(kwds_defaults)\n\u001b[1;32m--> 680\u001b[0m \u001b[39mreturn\u001b[39;00m _read(filepath_or_buffer, kwds)\n",
      "File \u001b[1;32mc:\\ProgramData\\Anaconda3\\lib\\site-packages\\pandas\\io\\parsers\\readers.py:575\u001b[0m, in \u001b[0;36m_read\u001b[1;34m(filepath_or_buffer, kwds)\u001b[0m\n\u001b[0;32m    572\u001b[0m _validate_names(kwds\u001b[39m.\u001b[39mget(\u001b[39m\"\u001b[39m\u001b[39mnames\u001b[39m\u001b[39m\"\u001b[39m, \u001b[39mNone\u001b[39;00m))\n\u001b[0;32m    574\u001b[0m \u001b[39m# Create the parser.\u001b[39;00m\n\u001b[1;32m--> 575\u001b[0m parser \u001b[39m=\u001b[39m TextFileReader(filepath_or_buffer, \u001b[39m*\u001b[39m\u001b[39m*\u001b[39mkwds)\n\u001b[0;32m    577\u001b[0m \u001b[39mif\u001b[39;00m chunksize \u001b[39mor\u001b[39;00m iterator:\n\u001b[0;32m    578\u001b[0m     \u001b[39mreturn\u001b[39;00m parser\n",
      "File \u001b[1;32mc:\\ProgramData\\Anaconda3\\lib\\site-packages\\pandas\\io\\parsers\\readers.py:933\u001b[0m, in \u001b[0;36mTextFileReader.__init__\u001b[1;34m(self, f, engine, **kwds)\u001b[0m\n\u001b[0;32m    930\u001b[0m     \u001b[39mself\u001b[39m\u001b[39m.\u001b[39moptions[\u001b[39m\"\u001b[39m\u001b[39mhas_index_names\u001b[39m\u001b[39m\"\u001b[39m] \u001b[39m=\u001b[39m kwds[\u001b[39m\"\u001b[39m\u001b[39mhas_index_names\u001b[39m\u001b[39m\"\u001b[39m]\n\u001b[0;32m    932\u001b[0m \u001b[39mself\u001b[39m\u001b[39m.\u001b[39mhandles: IOHandles \u001b[39m|\u001b[39m \u001b[39mNone\u001b[39;00m \u001b[39m=\u001b[39m \u001b[39mNone\u001b[39;00m\n\u001b[1;32m--> 933\u001b[0m \u001b[39mself\u001b[39m\u001b[39m.\u001b[39m_engine \u001b[39m=\u001b[39m \u001b[39mself\u001b[39;49m\u001b[39m.\u001b[39;49m_make_engine(f, \u001b[39mself\u001b[39;49m\u001b[39m.\u001b[39;49mengine)\n",
      "File \u001b[1;32mc:\\ProgramData\\Anaconda3\\lib\\site-packages\\pandas\\io\\parsers\\readers.py:1217\u001b[0m, in \u001b[0;36mTextFileReader._make_engine\u001b[1;34m(self, f, engine)\u001b[0m\n\u001b[0;32m   1213\u001b[0m     mode \u001b[39m=\u001b[39m \u001b[39m\"\u001b[39m\u001b[39mrb\u001b[39m\u001b[39m\"\u001b[39m\n\u001b[0;32m   1214\u001b[0m \u001b[39m# error: No overload variant of \"get_handle\" matches argument types\u001b[39;00m\n\u001b[0;32m   1215\u001b[0m \u001b[39m# \"Union[str, PathLike[str], ReadCsvBuffer[bytes], ReadCsvBuffer[str]]\"\u001b[39;00m\n\u001b[0;32m   1216\u001b[0m \u001b[39m# , \"str\", \"bool\", \"Any\", \"Any\", \"Any\", \"Any\", \"Any\"\u001b[39;00m\n\u001b[1;32m-> 1217\u001b[0m \u001b[39mself\u001b[39m\u001b[39m.\u001b[39mhandles \u001b[39m=\u001b[39m get_handle(  \u001b[39m# type: ignore[call-overload]\u001b[39;49;00m\n\u001b[0;32m   1218\u001b[0m     f,\n\u001b[0;32m   1219\u001b[0m     mode,\n\u001b[0;32m   1220\u001b[0m     encoding\u001b[39m=\u001b[39;49m\u001b[39mself\u001b[39;49m\u001b[39m.\u001b[39;49moptions\u001b[39m.\u001b[39;49mget(\u001b[39m\"\u001b[39;49m\u001b[39mencoding\u001b[39;49m\u001b[39m\"\u001b[39;49m, \u001b[39mNone\u001b[39;49;00m),\n\u001b[0;32m   1221\u001b[0m     compression\u001b[39m=\u001b[39;49m\u001b[39mself\u001b[39;49m\u001b[39m.\u001b[39;49moptions\u001b[39m.\u001b[39;49mget(\u001b[39m\"\u001b[39;49m\u001b[39mcompression\u001b[39;49m\u001b[39m\"\u001b[39;49m, \u001b[39mNone\u001b[39;49;00m),\n\u001b[0;32m   1222\u001b[0m     memory_map\u001b[39m=\u001b[39;49m\u001b[39mself\u001b[39;49m\u001b[39m.\u001b[39;49moptions\u001b[39m.\u001b[39;49mget(\u001b[39m\"\u001b[39;49m\u001b[39mmemory_map\u001b[39;49m\u001b[39m\"\u001b[39;49m, \u001b[39mFalse\u001b[39;49;00m),\n\u001b[0;32m   1223\u001b[0m     is_text\u001b[39m=\u001b[39;49mis_text,\n\u001b[0;32m   1224\u001b[0m     errors\u001b[39m=\u001b[39;49m\u001b[39mself\u001b[39;49m\u001b[39m.\u001b[39;49moptions\u001b[39m.\u001b[39;49mget(\u001b[39m\"\u001b[39;49m\u001b[39mencoding_errors\u001b[39;49m\u001b[39m\"\u001b[39;49m, \u001b[39m\"\u001b[39;49m\u001b[39mstrict\u001b[39;49m\u001b[39m\"\u001b[39;49m),\n\u001b[0;32m   1225\u001b[0m     storage_options\u001b[39m=\u001b[39;49m\u001b[39mself\u001b[39;49m\u001b[39m.\u001b[39;49moptions\u001b[39m.\u001b[39;49mget(\u001b[39m\"\u001b[39;49m\u001b[39mstorage_options\u001b[39;49m\u001b[39m\"\u001b[39;49m, \u001b[39mNone\u001b[39;49;00m),\n\u001b[0;32m   1226\u001b[0m )\n\u001b[0;32m   1227\u001b[0m \u001b[39massert\u001b[39;00m \u001b[39mself\u001b[39m\u001b[39m.\u001b[39mhandles \u001b[39mis\u001b[39;00m \u001b[39mnot\u001b[39;00m \u001b[39mNone\u001b[39;00m\n\u001b[0;32m   1228\u001b[0m f \u001b[39m=\u001b[39m \u001b[39mself\u001b[39m\u001b[39m.\u001b[39mhandles\u001b[39m.\u001b[39mhandle\n",
      "File \u001b[1;32mc:\\ProgramData\\Anaconda3\\lib\\site-packages\\pandas\\io\\common.py:789\u001b[0m, in \u001b[0;36mget_handle\u001b[1;34m(path_or_buf, mode, encoding, compression, memory_map, is_text, errors, storage_options)\u001b[0m\n\u001b[0;32m    784\u001b[0m \u001b[39melif\u001b[39;00m \u001b[39misinstance\u001b[39m(handle, \u001b[39mstr\u001b[39m):\n\u001b[0;32m    785\u001b[0m     \u001b[39m# Check whether the filename is to be opened in binary mode.\u001b[39;00m\n\u001b[0;32m    786\u001b[0m     \u001b[39m# Binary mode does not support 'encoding' and 'newline'.\u001b[39;00m\n\u001b[0;32m    787\u001b[0m     \u001b[39mif\u001b[39;00m ioargs\u001b[39m.\u001b[39mencoding \u001b[39mand\u001b[39;00m \u001b[39m\"\u001b[39m\u001b[39mb\u001b[39m\u001b[39m\"\u001b[39m \u001b[39mnot\u001b[39;00m \u001b[39min\u001b[39;00m ioargs\u001b[39m.\u001b[39mmode:\n\u001b[0;32m    788\u001b[0m         \u001b[39m# Encoding\u001b[39;00m\n\u001b[1;32m--> 789\u001b[0m         handle \u001b[39m=\u001b[39m \u001b[39mopen\u001b[39;49m(\n\u001b[0;32m    790\u001b[0m             handle,\n\u001b[0;32m    791\u001b[0m             ioargs\u001b[39m.\u001b[39;49mmode,\n\u001b[0;32m    792\u001b[0m             encoding\u001b[39m=\u001b[39;49mioargs\u001b[39m.\u001b[39;49mencoding,\n\u001b[0;32m    793\u001b[0m             errors\u001b[39m=\u001b[39;49merrors,\n\u001b[0;32m    794\u001b[0m             newline\u001b[39m=\u001b[39;49m\u001b[39m\"\u001b[39;49m\u001b[39m\"\u001b[39;49m,\n\u001b[0;32m    795\u001b[0m         )\n\u001b[0;32m    796\u001b[0m     \u001b[39melse\u001b[39;00m:\n\u001b[0;32m    797\u001b[0m         \u001b[39m# Binary mode\u001b[39;00m\n\u001b[0;32m    798\u001b[0m         handle \u001b[39m=\u001b[39m \u001b[39mopen\u001b[39m(handle, ioargs\u001b[39m.\u001b[39mmode)\n",
      "\u001b[1;31mFileNotFoundError\u001b[0m: [Errno 2] No such file or directory: 'D:\\\\ProjectData\\\\apples_and_oranges.csv'"
     ]
    }
   ],
   "source": [
    "import pandas as pd\n",
    "apples_oranges = pd.read_csv(\"D:\\ProjectData\\\\apples_and_oranges.csv\")\n",
    "apples_oranges.head()"
   ]
  },
  {
   "cell_type": "code",
   "execution_count": 14,
   "metadata": {},
   "outputs": [
    {
     "ename": "NameError",
     "evalue": "name 'sns' is not defined",
     "output_type": "error",
     "traceback": [
      "\u001b[1;31m---------------------------------------------------------------------------\u001b[0m",
      "\u001b[1;31mNameError\u001b[0m                                 Traceback (most recent call last)",
      "\u001b[1;32mc:\\Users\\User3\\Desktop\\R_Exam\\scatter.ipynb Cell 20\u001b[0m in \u001b[0;36m<cell line: 6>\u001b[1;34m()\u001b[0m\n\u001b[0;32m      <a href='vscode-notebook-cell:/c%3A/Users/User3/Desktop/R_Exam/scatter.ipynb#ch0000019?line=3'>4</a>\u001b[0m \u001b[39m# scatterplot\u001b[39;00m\n\u001b[0;32m      <a href='vscode-notebook-cell:/c%3A/Users/User3/Desktop/R_Exam/scatter.ipynb#ch0000019?line=4'>5</a>\u001b[0m plt\u001b[39m.\u001b[39mtitle(\u001b[39m'\u001b[39m\u001b[39mSizes and Weights of apples and oranges\u001b[39m\u001b[39m'\u001b[39m)\n\u001b[1;32m----> <a href='vscode-notebook-cell:/c%3A/Users/User3/Desktop/R_Exam/scatter.ipynb#ch0000019?line=5'>6</a>\u001b[0m sns\u001b[39m.\u001b[39mscatterplot(data\u001b[39m=\u001b[39mapples_oranges, x\u001b[39m=\u001b[39m\u001b[39m\"\u001b[39m\u001b[39mWeight\u001b[39m\u001b[39m\"\u001b[39m, y\u001b[39m=\u001b[39m\u001b[39m\"\u001b[39m\u001b[39mSize\u001b[39m\u001b[39m\"\u001b[39m, hue\u001b[39m=\u001b[39m\u001b[39m\"\u001b[39m\u001b[39mClass\u001b[39m\u001b[39m\"\u001b[39m, palette \u001b[39m=\u001b[39m color_dict)\n",
      "\u001b[1;31mNameError\u001b[0m: name 'sns' is not defined"
     ]
    },
    {
     "data": {
      "image/png": "[encoded data removed]",
      "text/plain": [
       "<Figure size 576x396 with 1 Axes>"
      ]
     },
     "metadata": {},
     "output_type": "display_data"
    }
   ],
   "source": [
    "# create a dictionary to colour classes \n",
    "color_dict = dict({'orange':'orange',\n",
    "                  'apple':'green'})\n",
    "# scatterplot\n",
    "plt.title('Sizes and Weights of apples and oranges')\n",
    "sns.scatterplot(data=apples_oranges, x=\"Weight\", y=\"Size\", hue=\"Class\", palette = color_dict)"
   ]
  },
  {
   "cell_type": "code",
   "execution_count": 15,
   "metadata": {},
   "outputs": [
    {
     "ename": "NameError",
     "evalue": "name 'apples_oranges' is not defined",
     "output_type": "error",
     "traceback": [
      "\u001b[1;31m---------------------------------------------------------------------------\u001b[0m",
      "\u001b[1;31mNameError\u001b[0m                                 Traceback (most recent call last)",
      "\u001b[1;32mc:\\Users\\User3\\Desktop\\R_Exam\\scatter.ipynb Cell 21\u001b[0m in \u001b[0;36m<cell line: 2>\u001b[1;34m()\u001b[0m\n\u001b[0;32m      <a href='vscode-notebook-cell:/c%3A/Users/User3/Desktop/R_Exam/scatter.ipynb#ch0000020?line=0'>1</a>\u001b[0m \u001b[39m# define input data\u001b[39;00m\n\u001b[1;32m----> <a href='vscode-notebook-cell:/c%3A/Users/User3/Desktop/R_Exam/scatter.ipynb#ch0000020?line=1'>2</a>\u001b[0m X \u001b[39m=\u001b[39m apples_oranges[[\u001b[39m\"\u001b[39m\u001b[39mWeight\u001b[39m\u001b[39m\"\u001b[39m, \u001b[39m\"\u001b[39m\u001b[39mSize\u001b[39m\u001b[39m\"\u001b[39m]]\n\u001b[0;32m      <a href='vscode-notebook-cell:/c%3A/Users/User3/Desktop/R_Exam/scatter.ipynb#ch0000020?line=2'>3</a>\u001b[0m \u001b[39m# define target \u001b[39;00m\n\u001b[0;32m      <a href='vscode-notebook-cell:/c%3A/Users/User3/Desktop/R_Exam/scatter.ipynb#ch0000020?line=3'>4</a>\u001b[0m y \u001b[39m=\u001b[39m apples_oranges\u001b[39m.\u001b[39mClass\n",
      "\u001b[1;31mNameError\u001b[0m: name 'apples_oranges' is not defined"
     ]
    }
   ],
   "source": [
    "# define input data\n",
    "X = apples_oranges[[\"Weight\", \"Size\"]]\n",
    "# define target \n",
    "y = apples_oranges.Class\n",
    "# fitting the support vector machine using a linear kernel\n",
    "from sklearn import svm\n",
    "clf = svm.SVC(kernel = 'linear', C=10)\n",
    "clf.fit(X, y)"
   ]
  },
  {
   "cell_type": "code",
   "execution_count": 16,
   "metadata": {},
   "outputs": [
    {
     "ename": "NameError",
     "evalue": "name 'clf' is not defined",
     "output_type": "error",
     "traceback": [
      "\u001b[1;31m---------------------------------------------------------------------------\u001b[0m",
      "\u001b[1;31mNameError\u001b[0m                                 Traceback (most recent call last)",
      "\u001b[1;32mc:\\Users\\User3\\Desktop\\R_Exam\\scatter.ipynb Cell 22\u001b[0m in \u001b[0;36m<cell line: 1>\u001b[1;34m()\u001b[0m\n\u001b[1;32m----> <a href='vscode-notebook-cell:/c%3A/Users/User3/Desktop/R_Exam/scatter.ipynb#ch0000021?line=0'>1</a>\u001b[0m b \u001b[39m=\u001b[39m clf\u001b[39m.\u001b[39mintercept_\n\u001b[0;32m      <a href='vscode-notebook-cell:/c%3A/Users/User3/Desktop/R_Exam/scatter.ipynb#ch0000021?line=1'>2</a>\u001b[0m w_1 \u001b[39m=\u001b[39m clf\u001b[39m.\u001b[39mcoef_[\u001b[39m0\u001b[39m][\u001b[39m0\u001b[39m]\n\u001b[0;32m      <a href='vscode-notebook-cell:/c%3A/Users/User3/Desktop/R_Exam/scatter.ipynb#ch0000021?line=2'>3</a>\u001b[0m w_2 \u001b[39m=\u001b[39m clf\u001b[39m.\u001b[39mcoef_[\u001b[39m0\u001b[39m][\u001b[39m1\u001b[39m]\n",
      "\u001b[1;31mNameError\u001b[0m: name 'clf' is not defined"
     ]
    }
   ],
   "source": [
    "b = clf.intercept_\n",
    "w_1 = clf.coef_[0][0]\n",
    "w_2 = clf.coef_[0][1]\n",
    "b, w_1, w_2"
   ]
  },
  {
   "cell_type": "code",
   "execution_count": 17,
   "metadata": {},
   "outputs": [
    {
     "ename": "NameError",
     "evalue": "name 'sns' is not defined",
     "output_type": "error",
     "traceback": [
      "\u001b[1;31m---------------------------------------------------------------------------\u001b[0m",
      "\u001b[1;31mNameError\u001b[0m                                 Traceback (most recent call last)",
      "\u001b[1;32mc:\\Users\\User3\\Desktop\\R_Exam\\scatter.ipynb Cell 23\u001b[0m in \u001b[0;36m<cell line: 3>\u001b[1;34m()\u001b[0m\n\u001b[0;32m      <a href='vscode-notebook-cell:/c%3A/Users/User3/Desktop/R_Exam/scatter.ipynb#ch0000022?line=0'>1</a>\u001b[0m \u001b[39m# plotting the hyperplane and support vector lines\u001b[39;00m\n\u001b[0;32m      <a href='vscode-notebook-cell:/c%3A/Users/User3/Desktop/R_Exam/scatter.ipynb#ch0000022?line=1'>2</a>\u001b[0m ax \u001b[39m=\u001b[39m plt\u001b[39m.\u001b[39mgca()\n\u001b[1;32m----> <a href='vscode-notebook-cell:/c%3A/Users/User3/Desktop/R_Exam/scatter.ipynb#ch0000022?line=2'>3</a>\u001b[0m sns\u001b[39m.\u001b[39mscatterplot(data\u001b[39m=\u001b[39mapples_oranges, x\u001b[39m=\u001b[39m\u001b[39m\"\u001b[39m\u001b[39mWeight\u001b[39m\u001b[39m\"\u001b[39m, y\u001b[39m=\u001b[39m\u001b[39m\"\u001b[39m\u001b[39mSize\u001b[39m\u001b[39m\"\u001b[39m, hue\u001b[39m=\u001b[39m\u001b[39m\"\u001b[39m\u001b[39mClass\u001b[39m\u001b[39m\"\u001b[39m, palette \u001b[39m=\u001b[39m color_dict)\n\u001b[0;32m      <a href='vscode-notebook-cell:/c%3A/Users/User3/Desktop/R_Exam/scatter.ipynb#ch0000022?line=3'>4</a>\u001b[0m xlim \u001b[39m=\u001b[39m ax\u001b[39m.\u001b[39mget_xlim()\n\u001b[0;32m      <a href='vscode-notebook-cell:/c%3A/Users/User3/Desktop/R_Exam/scatter.ipynb#ch0000022?line=4'>5</a>\u001b[0m ylim \u001b[39m=\u001b[39m ax\u001b[39m.\u001b[39mget_ylim()\n",
      "\u001b[1;31mNameError\u001b[0m: name 'sns' is not defined"
     ]
    },
    {
     "data": {
      "image/png": "[encoded data removed]",
      "text/plain": [
       "<Figure size 576x396 with 1 Axes>"
      ]
     },
     "metadata": {},
     "output_type": "display_data"
    }
   ],
   "source": [
    "# plotting the hyperplane and support vector lines\n",
    "ax = plt.gca()\n",
    "sns.scatterplot(data=apples_oranges, x=\"Weight\", y=\"Size\", hue=\"Class\", palette = color_dict)\n",
    "xlim = ax.get_xlim()\n",
    "ylim = ax.get_ylim()\n",
    "xx = np.linspace(xlim[0], xlim[1], 30)\n",
    "yy = np.linspace(ylim[0], ylim[1], 30)\n",
    "YY, XX = np.meshgrid(yy, xx)\n",
    "xy = np.vstack([XX.ravel(), YY.ravel()]).T\n",
    "Z = clf.decision_function(xy).reshape(XX.shape)\n",
    "ax.contour(XX, YY, Z, colors='k', levels=[-1, 0, 1], alpha=0.5,\n",
    "           linestyles=['--', '-', '--'])\n",
    "ax.scatter(clf.support_vectors_[:, 0], clf.support_vectors_[:, 1], s=100,\n",
    "           linewidth=1, facecolors='none', edgecolors='k')\n",
    "plt.show()"
   ]
  },
  {
   "cell_type": "code",
   "execution_count": 18,
   "metadata": {},
   "outputs": [
    {
     "ename": "NameError",
     "evalue": "name 'clf' is not defined",
     "output_type": "error",
     "traceback": [
      "\u001b[1;31m---------------------------------------------------------------------------\u001b[0m",
      "\u001b[1;31mNameError\u001b[0m                                 Traceback (most recent call last)",
      "\u001b[1;32mc:\\Users\\User3\\Desktop\\R_Exam\\scatter.ipynb Cell 24\u001b[0m in \u001b[0;36m<cell line: 2>\u001b[1;34m()\u001b[0m\n\u001b[0;32m      <a href='vscode-notebook-cell:/c%3A/Users/User3/Desktop/R_Exam/scatter.ipynb#ch0000023?line=0'>1</a>\u001b[0m \u001b[39m# obtain support vectors\u001b[39;00m\n\u001b[1;32m----> <a href='vscode-notebook-cell:/c%3A/Users/User3/Desktop/R_Exam/scatter.ipynb#ch0000023?line=1'>2</a>\u001b[0m clf\u001b[39m.\u001b[39msupport_vectors_\n",
      "\u001b[1;31mNameError\u001b[0m: name 'clf' is not defined"
     ]
    }
   ],
   "source": [
    "# obtain support vectors\n",
    "clf.support_vectors_"
   ]
  },
  {
   "cell_type": "code",
   "execution_count": 19,
   "metadata": {},
   "outputs": [
    {
     "ename": "NameError",
     "evalue": "name 'clf' is not defined",
     "output_type": "error",
     "traceback": [
      "\u001b[1;31m---------------------------------------------------------------------------\u001b[0m",
      "\u001b[1;31mNameError\u001b[0m                                 Traceback (most recent call last)",
      "\u001b[1;32mc:\\Users\\User3\\Desktop\\R_Exam\\scatter.ipynb Cell 25\u001b[0m in \u001b[0;36m<cell line: 1>\u001b[1;34m()\u001b[0m\n\u001b[1;32m----> <a href='vscode-notebook-cell:/c%3A/Users/User3/Desktop/R_Exam/scatter.ipynb#ch0000024?line=0'>1</a>\u001b[0m clf\u001b[39m.\u001b[39mpredict([[\u001b[39m70\u001b[39m, \u001b[39m4.6\u001b[39m]])\n",
      "\u001b[1;31mNameError\u001b[0m: name 'clf' is not defined"
     ]
    }
   ],
   "source": [
    "clf.predict([[70, 4.6]])"
   ]
  },
  {
   "cell_type": "code",
   "execution_count": null,
   "metadata": {},
   "outputs": [],
   "source": []
  },
  {
   "cell_type": "code",
   "execution_count": 20,
   "metadata": {},
   "outputs": [
    {
     "name": "stdout",
     "output_type": "stream",
     "text": [
      "Downloading data from https://www.cs.toronto.edu/~kriz/cifar-10-python.tar.gz\n",
      "  5316608/170498071 [..............................] - ETA: 5:09:06"
     ]
    }
   ],
   "source": [
    "# Library for plotting the images and the loss function\n",
    "import matplotlib.pyplot as plt\n",
    "\n",
    "# We import the data set from tensorflow and build the model there\n",
    "import tensorflow as tf\n",
    "from tensorflow.keras import datasets, layers, models\n",
    "\n",
    "# Download the data set\n",
    "(train_images, train_labels), (test_images, test_labels) = datasets.cifar10.load_data()\n",
    "\n",
    "# Normalize pixel values between 0 and 1\n",
    "train_images, test_images = train_images / 255.0, test_images / 255.0"
   ]
  },
  {
   "cell_type": "code",
   "execution_count": null,
   "metadata": {},
   "outputs": [],
   "source": [
    "# Define the 10 image classes\n",
    "class_names = ['airplane', 'automobile', 'bird', 'cat', 'deer',\n",
    "               'dog', 'frog', 'horse', 'ship', 'truck']\n",
    "\n",
    "# Show the first 10 images\n",
    "plt.figure(figsize=(10,10))\n",
    "for i in range(10):\n",
    "    plt.subplot(5,5,i+1)\n",
    "    plt.xticks([])\n",
    "    plt.yticks([])\n",
    "    plt.grid(False)\n",
    "    plt.imshow(train_images[i])\n",
    "    # Die CIFAR Labels sind Arrays, deshalb benötigen wir den extra Index\n",
    "    plt.xlabel(class_names[train_labels[i][0]])\n",
    "plt.show()"
   ]
  },
  {
   "cell_type": "code",
   "execution_count": null,
   "metadata": {},
   "outputs": [],
   "source": [
    "model = models.Sequential()\n",
    "model.add(layers.Conv2D(32, (3, 3), activation='relu', input_shape=(32, 32, 3)))\n",
    "model.add(layers.MaxPooling2D((2, 2)))\n",
    "model.add(layers.Conv2D(64, (3, 3), activation='relu'))\n",
    "model.add(layers.MaxPooling2D((2, 2)))"
   ]
  },
  {
   "cell_type": "code",
   "execution_count": null,
   "metadata": {},
   "outputs": [],
   "source": [
    "model.add(layers.Conv2D(64, (3, 3), activation='relu'))\n",
    "model.add(layers.Flatten())\n",
    "model.add(layers.Dense(64, activation='relu'))\n",
    "model.add(layers.Dense(10))\n",
    "\n",
    "model.summary()"
   ]
  },
  {
   "cell_type": "code",
   "execution_count": null,
   "metadata": {},
   "outputs": [],
   "source": [
    "model.compile(optimizer='adam', \n",
    "             loss=tf.keras.losses.SparseCategoricalCrossentropy(from_logits=True),\n",
    "             metrics=['accuracy'])\n",
    "\n",
    "history = model.fit(train_images, train_labels, epochs=10, \n",
    "                    validation_data=(test_images, test_labels))"
   ]
  },
  {
   "cell_type": "code",
   "execution_count": null,
   "metadata": {},
   "outputs": [],
   "source": [
    "plt.plot(history.history['accuracy'], label='accuracy')\n",
    "plt.plot(history.history['val_accuracy'], label = 'val_accuracy')\n",
    "plt.xlabel('Epoch')\n",
    "plt.ylabel('Accuracy')\n",
    "plt.ylim([0.5, 1])\n",
    "plt.legend(loc='lower right')"
   ]
  },
  {
   "cell_type": "code",
   "execution_count": null,
   "metadata": {},
   "outputs": [],
   "source": [
    "# Python program to implement a\n",
    "# single neuron neural network\n",
    "\n",
    "# import all necessary libraries\n",
    "from numpy import exp, array, random, dot, tanh\n",
    "\n",
    "# Class to create a neural\n",
    "# network with single neuron\n",
    "class NeuralNetwork():\n",
    "\t\n",
    "\tdef __init__(self):\n",
    "\t\t\n",
    "\t\t# Using seed to make sure it'll\n",
    "\t\t# generate same weights in every run\n",
    "\t\trandom.seed(1)\n",
    "\t\t\n",
    "\t\t# 3x1 Weight matrix\n",
    "\t\tself.weight_matrix = 2 * random.random((3, 1)) - 1\n",
    "\n",
    "\t# tanh as activation function\n",
    "\tdef tanh(self, x):\n",
    "\t\treturn tanh(x)\n",
    "\n",
    "\t# derivative of tanh function.\n",
    "\t# Needed to calculate the gradients.\n",
    "\tdef tanh_derivative(self, x):\n",
    "\t\treturn 1.0 - tanh(x) ** 2\n",
    "\n",
    "\t# forward propagation\n",
    "\tdef forward_propagation(self, inputs):\n",
    "\t\treturn self.tanh(dot(inputs, self.weight_matrix))\n",
    "\t\n",
    "\t# training the neural network.\n",
    "\tdef train(self, train_inputs, train_outputs,\n",
    "\t\t\t\t\t\t\tnum_train_iterations):\n",
    "\t\t\t\t\t\t\t\t\n",
    "\t\t# Number of iterations we want to\n",
    "\t\t# perform for this set of input.\n",
    "\t\tfor iteration in range(num_train_iterations):\n",
    "\t\t\toutput = self.forward_propagation(train_inputs)\n",
    "\n",
    "\t\t\t# Calculate the error in the output.\n",
    "\t\t\terror = train_outputs - output\n",
    "\n",
    "\t\t\t# multiply the error by input and then\n",
    "\t\t\t# by gradient of tanh function to calculate\n",
    "\t\t\t# the adjustment needs to be made in weights\n",
    "\t\t\tadjustment = dot(train_inputs.T, error *\n",
    "\t\t\t\t\t\t\tself.tanh_derivative(output))\n",
    "\t\t\t\t\t\t\t\n",
    "\t\t\t# Adjust the weight matrix\n",
    "\t\t\tself.weight_matrix += adjustment\n",
    "\n",
    "# Driver Code\n",
    "if __name__ == \"__main__\":\n",
    "\t\n",
    "\tneural_network = NeuralNetwork()\n",
    "\t\n",
    "\tprint ('Random weights at the start of training')\n",
    "\tprint (neural_network.weight_matrix)\n",
    "\n",
    "\ttrain_inputs = array([[0, 0, 1], [1, 1, 1], [1, 0, 1], [0, 1, 1]])\n",
    "\ttrain_outputs = array([[0, 1, 1, 0]]).T\n",
    "\n",
    "\tneural_network.train(train_inputs, train_outputs, 10000)\n",
    "\n",
    "\tprint ('New weights after training')\n",
    "\tprint (neural_network.weight_matrix)\n",
    "\n",
    "\t# Test the neural network with a new situation.\n",
    "\tprint (\"Testing network on new examples ->\")\n",
    "\tprint (neural_network.forward_propagation(array([1, 0, 0])))\n"
   ]
  },
  {
   "cell_type": "code",
   "execution_count": null,
   "metadata": {},
   "outputs": [],
   "source": [
    "# import opencv\n",
    "import cv2\n",
    "\n",
    "# Load the input image\n",
    "image = cv2.imread('C:\\\\Documents\\\\full_path\\\\tomatoes.jpg')\n",
    "cv2.imshow('Original', image)\n",
    "cv2.waitKey(0)\n",
    "\n",
    "# Use the cvtColor() function to grayscale the image\n",
    "gray_image = cv2.cvtColor(image, cv2.COLOR_BGR2GRAY)\n",
    "\n",
    "cv2.imshow('Grayscale', gray_image)\n",
    "cv2.waitKey(0)\n",
    "\n",
    "# Window shown waits for any key pressing event\n",
    "cv2.destroyAllWindows()\n"
   ]
  },
  {
   "cell_type": "code",
   "execution_count": null,
   "metadata": {},
   "outputs": [],
   "source": [
    "# Import opencv\n",
    "import cv2\n",
    "\n",
    "# Use the second argument or (flag value) zero\n",
    "# that specifies the image is to be read in grayscale mode\n",
    "img = cv2.imread('C:\\\\Documents\\\\full_path\\\\tomatoes.jpg', 0)\n",
    "\n",
    "cv2.imshow('Grayscale Image', img)\n",
    "cv2.waitKey(0)\n",
    "\n",
    "# Window shown waits for any key pressing event\n",
    "cv2.destroyAllWindows()\n"
   ]
  },
  {
   "cell_type": "code",
   "execution_count": null,
   "metadata": {},
   "outputs": [],
   "source": [
    "# Import opencv\n",
    "import cv2\n",
    "\n",
    "# Load the input image\n",
    "img = cv2.imread('C:\\\\Documents\\\\full_path\\\\tomatoes.jpg')\n",
    "\n",
    "# Obtain the dimensions of the image array\n",
    "# using the shape method\n",
    "(row, col) = img.shape[0:2]\n",
    "\n",
    "# Take the average of pixel values of the BGR Channels\n",
    "# to convert the colored image to grayscale image\n",
    "for i in range(row):\n",
    "\tfor j in range(col):\n",
    "\t\t# Find the average of the BGR pixel values\n",
    "\t\timg[i, j] = sum(img[i, j]) * 0.33\n",
    "\n",
    "cv2.imshow('Grayscale Image', img)\n",
    "cv2.waitKey(0)\n",
    "\n",
    "# Window shown waits for any key pressing event\n",
    "cv2.destroyAllWindows()\n"
   ]
  },
  {
   "cell_type": "code",
   "execution_count": null,
   "metadata": {},
   "outputs": [],
   "source": [
    "# Step 1 - Load data\n",
    "import pandas as pd\n",
    "dataset = pd.read_csv(\"weight-height.csv\")"
   ]
  },
  {
   "cell_type": "code",
   "execution_count": null,
   "metadata": {},
   "outputs": [],
   "source": [
    "dataset.info()\n",
    "dataset.describe()\n",
    "dataset.isnull().sum()"
   ]
  },
  {
   "cell_type": "code",
   "execution_count": null,
   "metadata": {},
   "outputs": [],
   "source": [
    "<class ‘pandas.core.frame.DataFrame’>\n",
    "RangeIndex: 10000 entries, 0 to 9999\n",
    "Data columns (total 3 columns):\n",
    "Gender 10000 non-null object\n",
    "Height 10000 non-null float64\n",
    "Weight 10000 non-null float64\n",
    "dtypes: float64(2), object(1)\n",
    "memory usage: 234.5+ KB"
   ]
  },
  {
   "cell_type": "code",
   "execution_count": null,
   "metadata": {},
   "outputs": [],
   "source": []
  }
 ],
 "metadata": {
  "kernelspec": {
   "display_name": "Python 3.9.12 ('base')",
   "language": "python",
   "name": "python3"
  },
  "language_info": {
   "codemirror_mode": {
    "name": "ipython",
    "version": 3
   },
   "file_extension": ".py",
   "mimetype": "text/x-python",
   "name": "python",
   "nbconvert_exporter": "python",
   "pygments_lexer": "ipython3",
   "version": "3.9.12"
  },
  "orig_nbformat": 4,
  "vscode": {
   "interpreter": {
    "hash": "ad2bdc8ecc057115af97d19610ffacc2b4e99fae6737bb82f5d7fb13d2f2c186"
   }
  }
 },
 "nbformat": 4,
 "nbformat_minor": 2
}
