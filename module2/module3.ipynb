{
 "cells": [
  {
   "cell_type": "markdown",
   "metadata": {},
   "source": [
    "Module 3 Business Stats"
   ]
  },
  {
   "cell_type": "code",
   "execution_count": 11,
   "metadata": {},
   "outputs": [
    {
     "name": "stdout",
     "output_type": "stream",
     "text": [
      "The mode of list values:7\n"
     ]
    }
   ],
   "source": [
    "import statistics\n",
    "\n",
    "values= [2,3,7,7,7,7,7,4,2,4,6,4,4,2,4] \n",
    "print('The mode of list values:',end='')\n",
    "print(statistics.mode(values))\n",
    "\n"
   ]
  },
  {
   "cell_type": "code",
   "execution_count": 12,
   "metadata": {},
   "outputs": [
    {
     "name": "stdout",
     "output_type": "stream",
     "text": [
      "The median of list values:19.9\n"
     ]
    }
   ],
   "source": [
    "\n",
    "import statistics\n",
    "\n",
    "values= [15,19,20.8,21.3] \n",
    "print('The median of list values:',end='')\n",
    "print(statistics.median(values))\n"
   ]
  },
  {
   "cell_type": "code",
   "execution_count": 24,
   "metadata": {},
   "outputs": [
    {
     "name": "stdout",
     "output_type": "stream",
     "text": [
      "The median of list values:1.1760204081632653\n"
     ]
    }
   ],
   "source": [
    "import statistics\n",
    "\n",
    "values1= [15,19.2,20.8,21.3,10.5,15.2] \n",
    "values2=[2.75, 1.75, 1.25, 0.25, 0.5, 1.25, 3.5]\n",
    "print('The median of list values:',end='')\n",
    "print(statistics.pvariance(values2))\n"
   ]
  },
  {
   "cell_type": "code",
   "execution_count": 25,
   "metadata": {},
   "outputs": [
    {
     "name": "stdout",
     "output_type": "stream",
     "text": [
      "The median of list values:19\n"
     ]
    }
   ],
   "source": [
    "import statistics\n",
    "\n",
    "values= [15,19,20.8,21.3] \n",
    "print('The median of list values:',end='')\n",
    "print(statistics.median_low(values))\n"
   ]
  }
 ],
 "metadata": {
  "kernelspec": {
   "display_name": "Python 3.8.5 ('base')",
   "language": "python",
   "name": "python3"
  },
  "language_info": {
   "codemirror_mode": {
    "name": "ipython",
    "version": 3
   },
   "file_extension": ".py",
   "mimetype": "text/x-python",
   "name": "python",
   "nbconvert_exporter": "python",
   "pygments_lexer": "ipython3",
   "version": "3.8.5"
  },
  "orig_nbformat": 4,
  "vscode": {
   "interpreter": {
    "hash": "ad2bdc8ecc057115af97d19610ffacc2b4e99fae6737bb82f5d7fb13d2f2c186"
   }
  }
 },
 "nbformat": 4,
 "nbformat_minor": 2
}
