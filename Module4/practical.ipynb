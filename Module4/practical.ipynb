{
 "cells": [
  {
   "cell_type": "markdown",
   "metadata": {},
   "source": [
    "1 dimensional array on numpy"
   ]
  },
  {
   "cell_type": "code",
   "execution_count": 114,
   "metadata": {},
   "outputs": [
    {
     "name": "stdout",
     "output_type": "stream",
     "text": [
      "[1 2 3]\n"
     ]
    }
   ],
   "source": [
    "import numpy as np\n",
    "\n",
    "a=np.array([1,2,3])\n",
    "print (a)\n"
   ]
  },
  {
   "cell_type": "code",
   "execution_count": 115,
   "metadata": {},
   "outputs": [
    {
     "name": "stdout",
     "output_type": "stream",
     "text": [
      "1.19.2\n"
     ]
    }
   ],
   "source": [
    "import numpy as np\n",
    "\n",
    "print(np.__version__)"
   ]
  },
  {
   "cell_type": "markdown",
   "metadata": {},
   "source": [
    "2 dimensional array in numpy"
   ]
  },
  {
   "cell_type": "code",
   "execution_count": 116,
   "metadata": {},
   "outputs": [
    {
     "name": "stdout",
     "output_type": "stream",
     "text": [
      "[[1 2]\n",
      " [3 4]]\n"
     ]
    }
   ],
   "source": [
    "import numpy as np\n",
    "\n",
    "a=np.array([[1,2],[3,4]])\n",
    "print (a)"
   ]
  },
  {
   "cell_type": "code",
   "execution_count": 117,
   "metadata": {},
   "outputs": [
    {
     "name": "stdout",
     "output_type": "stream",
     "text": [
      "[[[1 2 3]\n",
      "  [4 5 6]]\n",
      "\n",
      " [[1 2 3]\n",
      "  [4 5 6]]]\n",
      "3\n"
     ]
    }
   ],
   "source": [
    "import numpy as np\n",
    "arr = np.array([[[1,2,3],[4,5,6]],[[1,2,3],[4,5,6]]])\n",
    "print(arr)\n",
    "print(arr.ndim)"
   ]
  },
  {
   "cell_type": "markdown",
   "metadata": {},
   "source": [
    "5D Array of numpy"
   ]
  },
  {
   "cell_type": "code",
   "execution_count": 118,
   "metadata": {},
   "outputs": [
    {
     "name": "stdout",
     "output_type": "stream",
     "text": [
      "[[[[[1 2 3 4]]]]]\n",
      "5\n"
     ]
    }
   ],
   "source": [
    "import numpy as np\n",
    "arr = np.array([1,2,3,4],ndmin=5)\n",
    "print(arr)\n",
    "print(arr.ndim)"
   ]
  },
  {
   "cell_type": "markdown",
   "metadata": {},
   "source": [
    "Check dimesion of array"
   ]
  },
  {
   "cell_type": "code",
   "execution_count": 119,
   "metadata": {},
   "outputs": [
    {
     "name": "stdout",
     "output_type": "stream",
     "text": [
      "0\n",
      "1\n"
     ]
    }
   ],
   "source": [
    "import numpy as np \n",
    "a=np.array(42)\n",
    "b = np.array([1,2,3,4,5])\n",
    "print(a.ndim)\n",
    "print(b.ndim)\n"
   ]
  },
  {
   "cell_type": "markdown",
   "metadata": {},
   "source": [
    "find the shape of array"
   ]
  },
  {
   "cell_type": "code",
   "execution_count": 120,
   "metadata": {},
   "outputs": [
    {
     "name": "stdout",
     "output_type": "stream",
     "text": [
      "[[1 3 4 5]\n",
      " [1 3 4 5]]\n",
      "(2, 4)\n"
     ]
    }
   ],
   "source": [
    "arr=np.array([[1,3,4,5],[1,3,4,5]])\n",
    "print(arr)\n",
    "print(arr.shape)"
   ]
  },
  {
   "cell_type": "markdown",
   "metadata": {},
   "source": [
    "Matrix operations helping functions"
   ]
  },
  {
   "cell_type": "code",
   "execution_count": 121,
   "metadata": {},
   "outputs": [
    {
     "name": "stdout",
     "output_type": "stream",
     "text": [
      "[0. 0. 0. 0. 0.]\n",
      "[1. 1. 1. 1. 1.]\n",
      "[1 3 5]\n"
     ]
    }
   ],
   "source": [
    "import numpy as np\n",
    "print(np.zeros(5))\n",
    "print(np.ones(5))\n",
    "print(np.arange(1,6,2))\n"
   ]
  },
  {
   "cell_type": "markdown",
   "metadata": {},
   "source": [
    "Sorting Arrays np.sort()"
   ]
  },
  {
   "cell_type": "code",
   "execution_count": 122,
   "metadata": {},
   "outputs": [
    {
     "data": {
      "text/plain": [
       "array([0, 1, 2, 3, 4, 5, 7, 8, 9])"
      ]
     },
     "execution_count": 122,
     "metadata": {},
     "output_type": "execute_result"
    }
   ],
   "source": [
    "import numpy as np\n",
    "\n",
    "arr = np.array([2,4,1,5,7,9,8,0,3])\n",
    "np.sort(arr)"
   ]
  },
  {
   "cell_type": "markdown",
   "metadata": {},
   "source": [
    "Alphabetic sort"
   ]
  },
  {
   "cell_type": "code",
   "execution_count": 123,
   "metadata": {},
   "outputs": [
    {
     "data": {
      "text/plain": [
       "array(['Apple', 'Banana', 'Citrus Fruit', 'Grapes', 'Mango'], dtype='<U12')"
      ]
     },
     "execution_count": 123,
     "metadata": {},
     "output_type": "execute_result"
    }
   ],
   "source": [
    "arr=np.array(['Banana','Apple','Citrus Fruit','Mango','Grapes'])\n",
    "np.sort(arr)"
   ]
  },
  {
   "cell_type": "markdown",
   "metadata": {},
   "source": [
    "Access arrays in numpy"
   ]
  },
  {
   "cell_type": "code",
   "execution_count": 124,
   "metadata": {},
   "outputs": [
    {
     "name": "stdout",
     "output_type": "stream",
     "text": [
      "1\n",
      "[1 2]\n",
      "[4 5]\n",
      "[1 2]\n"
     ]
    }
   ],
   "source": [
    "import numpy as np\n",
    "data = np.array([1,2,3,4,5,6,7,8,9])\n",
    "print(data[0])\n",
    "print(data[0:2])\n",
    "print(data[3:5])\n",
    "print(data[:2])"
   ]
  },
  {
   "cell_type": "code",
   "execution_count": 125,
   "metadata": {},
   "outputs": [
    {
     "name": "stdout",
     "output_type": "stream",
     "text": [
      "[90 10 35]\n"
     ]
    }
   ],
   "source": [
    "import numpy as np\n",
    "arr= np.array([90,50,70,10,20,60,35])\n",
    "print(arr[0:7:3])\n"
   ]
  },
  {
   "cell_type": "code",
   "execution_count": 126,
   "metadata": {},
   "outputs": [
    {
     "name": "stdout",
     "output_type": "stream",
     "text": [
      "[4 5]\n"
     ]
    }
   ],
   "source": [
    "import numpy as np\n",
    "arr= np.array([[1,2,3,4,5],[6,7,8,9,10]])\n",
    "print(arr[0,3:5])"
   ]
  },
  {
   "cell_type": "code",
   "execution_count": 127,
   "metadata": {},
   "outputs": [
    {
     "name": "stdout",
     "output_type": "stream",
     "text": [
      "(array([3, 5, 6], dtype=int64),)\n",
      "(array([1, 3, 5, 7], dtype=int64),)\n"
     ]
    }
   ],
   "source": [
    "import numpy as np\n",
    "arr=np.array([1,2,3,40,5,40,40])\n",
    "x = np.where(arr == 40)\n",
    "print(x)\n",
    "arr = np.array([10,20,30,40,50,60,70,80])\n",
    "x=np.where(arr%4==0)\n",
    "print(x)\n"
   ]
  },
  {
   "cell_type": "code",
   "execution_count": 128,
   "metadata": {},
   "outputs": [
    {
     "name": "stdout",
     "output_type": "stream",
     "text": [
      "[ 6 20  9 19  0]\n",
      "5\n"
     ]
    }
   ],
   "source": [
    "arr=np.array([6,20,9,19,0])\n",
    "print(arr)\n",
    "x=np.searchsorted(arr,25)\n",
    "print(x)"
   ]
  },
  {
   "cell_type": "markdown",
   "metadata": {},
   "source": [
    "Reshaping array"
   ]
  },
  {
   "cell_type": "code",
   "execution_count": 129,
   "metadata": {},
   "outputs": [
    {
     "name": "stdout",
     "output_type": "stream",
     "text": [
      "[[ 1  2  3]\n",
      " [ 4  5  6]\n",
      " [ 7  8  9]\n",
      " [10 11 12]]\n",
      "[1 2 3 4 5 6]\n"
     ]
    }
   ],
   "source": [
    "import numpy as np\n",
    "\n",
    "arr=np.array([1,2,3,4,5,6,7,8,9,10,11,12])\n",
    "newarr = arr.reshape(4,3)\n",
    "print(newarr)\n",
    "arr=np.array([[1,2,3],[4,5,6]])\n",
    "newarr= arr.reshape(-1)\n",
    "print(newarr)\n"
   ]
  },
  {
   "cell_type": "markdown",
   "metadata": {},
   "source": [
    "Filtering an array"
   ]
  },
  {
   "cell_type": "code",
   "execution_count": 130,
   "metadata": {},
   "outputs": [
    {
     "name": "stdout",
     "output_type": "stream",
     "text": [
      "[42 44]\n"
     ]
    }
   ],
   "source": [
    "from operator import truediv\n",
    "\n",
    "\n",
    "arr=np.array([41,42,43,44])\n",
    "x=[False,True,False,True]\n",
    "newarr=arr[x]\n",
    "print(newarr)"
   ]
  },
  {
   "cell_type": "markdown",
   "metadata": {},
   "source": [
    "Filtering numbers list with lambda"
   ]
  },
  {
   "cell_type": "code",
   "execution_count": 131,
   "metadata": {},
   "outputs": [
    {
     "name": "stdout",
     "output_type": "stream",
     "text": [
      "[0, 2, 4, 8]\n"
     ]
    }
   ],
   "source": [
    "seq =[0,1,2,4,3,5,8,13]\n",
    "result = filter(lambda x: x%2==0,seq)\n",
    "print(list(result))\n",
    "\n"
   ]
  },
  {
   "cell_type": "markdown",
   "metadata": {},
   "source": [
    "Concatenation of arrays"
   ]
  },
  {
   "cell_type": "code",
   "execution_count": 132,
   "metadata": {},
   "outputs": [
    {
     "name": "stdout",
     "output_type": "stream",
     "text": [
      "[[0 1 2]\n",
      " [3 4 5]]\n",
      "[[ 7  8  9]\n",
      " [10 11 12]]\n"
     ]
    },
    {
     "data": {
      "text/plain": [
       "array([[ 0,  1,  2,  7,  8,  9],\n",
       "       [ 3,  4,  5, 10, 11, 12]])"
      ]
     },
     "execution_count": 132,
     "metadata": {},
     "output_type": "execute_result"
    }
   ],
   "source": [
    "a = np.arange(6).reshape(2,3)\n",
    "print(a)\n",
    "b = np.arange(7,13).reshape(2,3)\n",
    "print(b)\n",
    "\n",
    "np.concatenate((a,b),axis=1)\n"
   ]
  },
  {
   "cell_type": "code",
   "execution_count": 133,
   "metadata": {},
   "outputs": [
    {
     "name": "stdout",
     "output_type": "stream",
     "text": [
      "[[0 1 2]\n",
      " [7 8 9]]\n",
      "[[ 3  4  5]\n",
      " [10 11 12]]\n",
      "--------------\n",
      "[[[ 0  1  2]\n",
      "  [ 7  8  9]]\n",
      "\n",
      " [[ 3  4  5]\n",
      "  [10 11 12]]]\n"
     ]
    }
   ],
   "source": [
    "import numpy as np\n",
    "a = np.array([[0,1,2],[7,8,9]])\n",
    "print(a)\n",
    "b = np.array([[3,4,5],[10,11,12]])\n",
    "print(b)\n",
    "print('--------------')\n",
    "order= np.stack((a,b))\n",
    "print(order)\n",
    "\n"
   ]
  },
  {
   "cell_type": "markdown",
   "metadata": {},
   "source": [
    "Stack of arrays"
   ]
  },
  {
   "cell_type": "code",
   "execution_count": 134,
   "metadata": {},
   "outputs": [
    {
     "name": "stdout",
     "output_type": "stream",
     "text": [
      "[[0 1 2]\n",
      " [7 8 9]]\n",
      "[[ 3  4  5]\n",
      " [10 11 12]]\n"
     ]
    },
    {
     "data": {
      "text/plain": [
       "array([[ 0,  1,  2,  3,  4,  5],\n",
       "       [ 7,  8,  9, 10, 11, 12]])"
      ]
     },
     "execution_count": 134,
     "metadata": {},
     "output_type": "execute_result"
    }
   ],
   "source": [
    "import numpy as np\n",
    "a = np.array([[0,1,2],[7,8,9]])\n",
    "print(a)\n",
    "b = np.array([[3,4,5],[10,11,12]])\n",
    "print(b)\n",
    "np.hstack((a,b))\n"
   ]
  },
  {
   "cell_type": "code",
   "execution_count": 135,
   "metadata": {},
   "outputs": [
    {
     "data": {
      "text/plain": [
       "array([[ 0,  1,  2,  3,  4,  5],\n",
       "       [ 7,  8,  9, 10, 11, 12]])"
      ]
     },
     "execution_count": 135,
     "metadata": {},
     "output_type": "execute_result"
    }
   ],
   "source": [
    "np.hstack((a,b))"
   ]
  },
  {
   "cell_type": "code",
   "execution_count": 136,
   "metadata": {},
   "outputs": [
    {
     "data": {
      "text/plain": [
       "array([[[ 0,  3],\n",
       "        [ 1,  4],\n",
       "        [ 2,  5]],\n",
       "\n",
       "       [[ 7, 10],\n",
       "        [ 8, 11],\n",
       "        [ 9, 12]]])"
      ]
     },
     "execution_count": 136,
     "metadata": {},
     "output_type": "execute_result"
    }
   ],
   "source": [
    "np.dstack((a,b))"
   ]
  },
  {
   "cell_type": "markdown",
   "metadata": {},
   "source": [
    "PANDAS"
   ]
  },
  {
   "cell_type": "code",
   "execution_count": 137,
   "metadata": {},
   "outputs": [
    {
     "name": "stdout",
     "output_type": "stream",
     "text": [
      "Apple    10\n",
      "B        20\n",
      "C        30\n",
      "D        40\n",
      "dtype: int32\n",
      "10\n"
     ]
    }
   ],
   "source": [
    "# CREATING SERIES\n",
    "\n",
    "import pandas as pd\n",
    "a=np.array([10,20,30,40])\n",
    "\n",
    "S=pd.Series(a,index=['Apple','B','C','D'])\n",
    "print(S)\n",
    "print(S['Apple'])"
   ]
  },
  {
   "cell_type": "markdown",
   "metadata": {},
   "source": [
    "Pandas series indexing"
   ]
  },
  {
   "cell_type": "code",
   "execution_count": 138,
   "metadata": {},
   "outputs": [
    {
     "name": "stdout",
     "output_type": "stream",
     "text": [
      "x    10\n",
      "y    70\n",
      "z    20\n",
      "dtype: int64\n",
      "70\n"
     ]
    }
   ],
   "source": [
    "a=[10,70,20]\n",
    "myvar = pd.Series(a,index=['x','y','z'])\n",
    "print(myvar)\n",
    "\n",
    "print(myvar['y'])"
   ]
  },
  {
   "cell_type": "code",
   "execution_count": 139,
   "metadata": {},
   "outputs": [
    {
     "data": {
      "text/plain": [
       "0    10\n",
       "1    20\n",
       "2    30\n",
       "3    40\n",
       "4    50\n",
       "5    60\n",
       "dtype: int64"
      ]
     },
     "execution_count": 139,
     "metadata": {},
     "output_type": "execute_result"
    }
   ],
   "source": [
    "List1=[10,20,30,40,50,60]\n",
    "pd.Series(List1)"
   ]
  },
  {
   "cell_type": "code",
   "execution_count": 140,
   "metadata": {},
   "outputs": [
    {
     "name": "stdout",
     "output_type": "stream",
     "text": [
      "day1    42\n",
      "day2    38\n",
      "day3    50\n",
      "dtype: int64\n"
     ]
    }
   ],
   "source": [
    "sales ={'day1':42,'day2':38,'day3':50}\n",
    "myvar = pd.Series(sales)\n",
    "print(myvar)\n"
   ]
  },
  {
   "cell_type": "markdown",
   "metadata": {},
   "source": [
    "Creating Dataframes"
   ]
  },
  {
   "cell_type": "code",
   "execution_count": 141,
   "metadata": {},
   "outputs": [
    {
     "name": "stdout",
     "output_type": "stream",
     "text": [
      "          calories  duration  temp\n",
      "Row1           420        50     1\n",
      "duration       380        40     2\n",
      "other          390        45     3\n",
      "____\n",
      "calories    390\n",
      "duration     45\n",
      "temp          3\n",
      "Name: other, dtype: int64\n"
     ]
    }
   ],
   "source": [
    "data={'calories':[420,380,390],'duration':[50,40,45],'temp':[1,2,3]}\n",
    "df=pd.DataFrame(data,index=['Row1','duration','other'])\n",
    "print(df)\n",
    "\n",
    "print(\"____\")\n",
    "print(df.loc['other'])\n"
   ]
  },
  {
   "cell_type": "markdown",
   "metadata": {},
   "source": [
    "Reading CSV using Pandas"
   ]
  },
  {
   "cell_type": "code",
   "execution_count": 142,
   "metadata": {},
   "outputs": [
    {
     "ename": "FileNotFoundError",
     "evalue": "[Errno 2] No such file or directory: '/data.csv'",
     "output_type": "error",
     "traceback": [
      "\u001b[1;31m---------------------------------------------------------------------------\u001b[0m",
      "\u001b[1;31mFileNotFoundError\u001b[0m                         Traceback (most recent call last)",
      "\u001b[1;32mg:\\Backup Sep 2 2022\\Desk\\sample\\Module4\\practical.ipynb Cell 47\u001b[0m in \u001b[0;36m<cell line: 2>\u001b[1;34m()\u001b[0m\n\u001b[0;32m      <a href='vscode-notebook-cell:/g%3A/Backup%20Sep%202%202022/Desk/sample/Module4/practical.ipynb#X64sZmlsZQ%3D%3D?line=0'>1</a>\u001b[0m \u001b[39mimport\u001b[39;00m \u001b[39mpandas\u001b[39;00m \u001b[39mas\u001b[39;00m \u001b[39mpd\u001b[39;00m\n\u001b[1;32m----> <a href='vscode-notebook-cell:/g%3A/Backup%20Sep%202%202022/Desk/sample/Module4/practical.ipynb#X64sZmlsZQ%3D%3D?line=1'>2</a>\u001b[0m df \u001b[39m=\u001b[39m pd\u001b[39m.\u001b[39;49mread_csv(\u001b[39m'\u001b[39;49m\u001b[39m/data.csv\u001b[39;49m\u001b[39m'\u001b[39;49m)\n\u001b[0;32m      <a href='vscode-notebook-cell:/g%3A/Backup%20Sep%202%202022/Desk/sample/Module4/practical.ipynb#X64sZmlsZQ%3D%3D?line=2'>3</a>\u001b[0m \u001b[39mprint\u001b[39m(df\u001b[39m.\u001b[39mto_string())\n",
      "File \u001b[1;32mc:\\ProgramData\\Anaconda3\\lib\\site-packages\\pandas\\io\\parsers.py:686\u001b[0m, in \u001b[0;36mread_csv\u001b[1;34m(filepath_or_buffer, sep, delimiter, header, names, index_col, usecols, squeeze, prefix, mangle_dupe_cols, dtype, engine, converters, true_values, false_values, skipinitialspace, skiprows, skipfooter, nrows, na_values, keep_default_na, na_filter, verbose, skip_blank_lines, parse_dates, infer_datetime_format, keep_date_col, date_parser, dayfirst, cache_dates, iterator, chunksize, compression, thousands, decimal, lineterminator, quotechar, quoting, doublequote, escapechar, comment, encoding, dialect, error_bad_lines, warn_bad_lines, delim_whitespace, low_memory, memory_map, float_precision)\u001b[0m\n\u001b[0;32m    633\u001b[0m     engine_specified \u001b[39m=\u001b[39m \u001b[39mFalse\u001b[39;00m\n\u001b[0;32m    635\u001b[0m kwds\u001b[39m.\u001b[39mupdate(\n\u001b[0;32m    636\u001b[0m     delimiter\u001b[39m=\u001b[39mdelimiter,\n\u001b[0;32m    637\u001b[0m     engine\u001b[39m=\u001b[39mengine,\n\u001b[1;32m   (...)\u001b[0m\n\u001b[0;32m    683\u001b[0m     skip_blank_lines\u001b[39m=\u001b[39mskip_blank_lines,\n\u001b[0;32m    684\u001b[0m )\n\u001b[1;32m--> 686\u001b[0m \u001b[39mreturn\u001b[39;00m _read(filepath_or_buffer, kwds)\n",
      "File \u001b[1;32mc:\\ProgramData\\Anaconda3\\lib\\site-packages\\pandas\\io\\parsers.py:452\u001b[0m, in \u001b[0;36m_read\u001b[1;34m(filepath_or_buffer, kwds)\u001b[0m\n\u001b[0;32m    449\u001b[0m _validate_names(kwds\u001b[39m.\u001b[39mget(\u001b[39m\"\u001b[39m\u001b[39mnames\u001b[39m\u001b[39m\"\u001b[39m, \u001b[39mNone\u001b[39;00m))\n\u001b[0;32m    451\u001b[0m \u001b[39m# Create the parser.\u001b[39;00m\n\u001b[1;32m--> 452\u001b[0m parser \u001b[39m=\u001b[39m TextFileReader(fp_or_buf, \u001b[39m*\u001b[39;49m\u001b[39m*\u001b[39;49mkwds)\n\u001b[0;32m    454\u001b[0m \u001b[39mif\u001b[39;00m chunksize \u001b[39mor\u001b[39;00m iterator:\n\u001b[0;32m    455\u001b[0m     \u001b[39mreturn\u001b[39;00m parser\n",
      "File \u001b[1;32mc:\\ProgramData\\Anaconda3\\lib\\site-packages\\pandas\\io\\parsers.py:946\u001b[0m, in \u001b[0;36mTextFileReader.__init__\u001b[1;34m(self, f, engine, **kwds)\u001b[0m\n\u001b[0;32m    943\u001b[0m \u001b[39mif\u001b[39;00m \u001b[39m\"\u001b[39m\u001b[39mhas_index_names\u001b[39m\u001b[39m\"\u001b[39m \u001b[39min\u001b[39;00m kwds:\n\u001b[0;32m    944\u001b[0m     \u001b[39mself\u001b[39m\u001b[39m.\u001b[39moptions[\u001b[39m\"\u001b[39m\u001b[39mhas_index_names\u001b[39m\u001b[39m\"\u001b[39m] \u001b[39m=\u001b[39m kwds[\u001b[39m\"\u001b[39m\u001b[39mhas_index_names\u001b[39m\u001b[39m\"\u001b[39m]\n\u001b[1;32m--> 946\u001b[0m \u001b[39mself\u001b[39;49m\u001b[39m.\u001b[39;49m_make_engine(\u001b[39mself\u001b[39;49m\u001b[39m.\u001b[39;49mengine)\n",
      "File \u001b[1;32mc:\\ProgramData\\Anaconda3\\lib\\site-packages\\pandas\\io\\parsers.py:1178\u001b[0m, in \u001b[0;36mTextFileReader._make_engine\u001b[1;34m(self, engine)\u001b[0m\n\u001b[0;32m   1176\u001b[0m \u001b[39mdef\u001b[39;00m \u001b[39m_make_engine\u001b[39m(\u001b[39mself\u001b[39m, engine\u001b[39m=\u001b[39m\u001b[39m\"\u001b[39m\u001b[39mc\u001b[39m\u001b[39m\"\u001b[39m):\n\u001b[0;32m   1177\u001b[0m     \u001b[39mif\u001b[39;00m engine \u001b[39m==\u001b[39m \u001b[39m\"\u001b[39m\u001b[39mc\u001b[39m\u001b[39m\"\u001b[39m:\n\u001b[1;32m-> 1178\u001b[0m         \u001b[39mself\u001b[39m\u001b[39m.\u001b[39m_engine \u001b[39m=\u001b[39m CParserWrapper(\u001b[39mself\u001b[39;49m\u001b[39m.\u001b[39;49mf, \u001b[39m*\u001b[39;49m\u001b[39m*\u001b[39;49m\u001b[39mself\u001b[39;49m\u001b[39m.\u001b[39;49moptions)\n\u001b[0;32m   1179\u001b[0m     \u001b[39melse\u001b[39;00m:\n\u001b[0;32m   1180\u001b[0m         \u001b[39mif\u001b[39;00m engine \u001b[39m==\u001b[39m \u001b[39m\"\u001b[39m\u001b[39mpython\u001b[39m\u001b[39m\"\u001b[39m:\n",
      "File \u001b[1;32mc:\\ProgramData\\Anaconda3\\lib\\site-packages\\pandas\\io\\parsers.py:2008\u001b[0m, in \u001b[0;36mCParserWrapper.__init__\u001b[1;34m(self, src, **kwds)\u001b[0m\n\u001b[0;32m   2005\u001b[0m \u001b[39mself\u001b[39m\u001b[39m.\u001b[39musecols, \u001b[39mself\u001b[39m\u001b[39m.\u001b[39musecols_dtype \u001b[39m=\u001b[39m _validate_usecols_arg(kwds[\u001b[39m\"\u001b[39m\u001b[39musecols\u001b[39m\u001b[39m\"\u001b[39m])\n\u001b[0;32m   2006\u001b[0m kwds[\u001b[39m\"\u001b[39m\u001b[39musecols\u001b[39m\u001b[39m\"\u001b[39m] \u001b[39m=\u001b[39m \u001b[39mself\u001b[39m\u001b[39m.\u001b[39musecols\n\u001b[1;32m-> 2008\u001b[0m \u001b[39mself\u001b[39m\u001b[39m.\u001b[39m_reader \u001b[39m=\u001b[39m parsers\u001b[39m.\u001b[39;49mTextReader(src, \u001b[39m*\u001b[39;49m\u001b[39m*\u001b[39;49mkwds)\n\u001b[0;32m   2009\u001b[0m \u001b[39mself\u001b[39m\u001b[39m.\u001b[39munnamed_cols \u001b[39m=\u001b[39m \u001b[39mself\u001b[39m\u001b[39m.\u001b[39m_reader\u001b[39m.\u001b[39munnamed_cols\n\u001b[0;32m   2011\u001b[0m passed_names \u001b[39m=\u001b[39m \u001b[39mself\u001b[39m\u001b[39m.\u001b[39mnames \u001b[39mis\u001b[39;00m \u001b[39mNone\u001b[39;00m\n",
      "File \u001b[1;32mpandas\\_libs\\parsers.pyx:382\u001b[0m, in \u001b[0;36mpandas._libs.parsers.TextReader.__cinit__\u001b[1;34m()\u001b[0m\n",
      "File \u001b[1;32mpandas\\_libs\\parsers.pyx:674\u001b[0m, in \u001b[0;36mpandas._libs.parsers.TextReader._setup_parser_source\u001b[1;34m()\u001b[0m\n",
      "\u001b[1;31mFileNotFoundError\u001b[0m: [Errno 2] No such file or directory: '/data.csv'"
     ]
    }
   ],
   "source": [
    "import pandas as pd\n",
    "df = pd.read_csv('/data.csv')\n",
    "print(df.to_string())"
   ]
  },
  {
   "cell_type": "markdown",
   "metadata": {},
   "source": [
    "Reading dataset using excelsheet"
   ]
  },
  {
   "cell_type": "code",
   "execution_count": null,
   "metadata": {},
   "outputs": [
    {
     "name": "stdout",
     "output_type": "stream",
     "text": [
      "    1   10 2022-12-06 00:00:00\n",
      "0   2   20          2022-12-07\n",
      "1   3   30          2022-12-08\n",
      "2   4   40          2022-12-09\n",
      "3   5   50          2022-12-10\n",
      "4   6   60          2022-12-11\n",
      "5   7   70          2022-12-12\n",
      "6   8   80          2022-12-13\n",
      "7   9   90          2022-12-14\n",
      "8  10  100          2022-12-15\n"
     ]
    }
   ],
   "source": [
    "import pandas as pd\n",
    "df = pd.read_excel('data.xlsx')\n",
    "print(df.to_string())"
   ]
  },
  {
   "cell_type": "markdown",
   "metadata": {},
   "source": [
    "Reading json file"
   ]
  },
  {
   "cell_type": "code",
   "execution_count": null,
   "metadata": {},
   "outputs": [
    {
     "name": "stdout",
     "output_type": "stream",
     "text": [
      "                               student Biodata\n",
      "DOB                                 08-10-2000\n",
      "address     {'city': 'Hubli', 'PIN': '580029'}\n",
      "first name                               Apple\n",
      "last name                               Orange\n"
     ]
    }
   ],
   "source": [
    "import pandas as pd\n",
    "df=pd.read_json('data.json')\n",
    "print(df.to_string())"
   ]
  },
  {
   "cell_type": "markdown",
   "metadata": {},
   "source": [
    "Dictionary as JSON"
   ]
  },
  {
   "cell_type": "code",
   "execution_count": null,
   "metadata": {},
   "outputs": [
    {
     "name": "stdout",
     "output_type": "stream",
     "text": [
      "   Duration  Pulse  Maxpulse\n",
      "0        60    110     110.0\n",
      "1        60    112     117.0\n",
      "2        50    117       NaN\n"
     ]
    }
   ],
   "source": [
    "import pandas as pd\n",
    "data = {\n",
    "    \"Duration\":{\"0\":60,\"1\":60,\"2\":50,},\n",
    "    \"Pulse\":{\"0\":110, \"2\":117, \"1\":112},\n",
    "    \"Maxpulse\":{\"0\":110, \"1\":117}\n",
    "\n",
    "    }\n",
    "df = pd.DataFrame(data)\n",
    "print(df)"
   ]
  },
  {
   "cell_type": "markdown",
   "metadata": {},
   "source": [
    "Slicing CSV"
   ]
  },
  {
   "cell_type": "code",
   "execution_count": 181,
   "metadata": {},
   "outputs": [
    {
     "name": "stdout",
     "output_type": "stream",
     "text": [
      "   Number  Word Rateing    Place\n",
      "0       2  Five       6  Dharwad\n",
      "1       1  Five       3    hubli\n",
      "2       5  Five       6  Dharwad\n",
      "3       1  Five       3    hubli\n",
      "4       4   NaN     NaN      NaN\n"
     ]
    }
   ],
   "source": [
    "import pandas as pd\n",
    "df = pd.read_csv('stock.csv')\n",
    "print(df.head())"
   ]
  },
  {
   "cell_type": "code",
   "execution_count": 182,
   "metadata": {},
   "outputs": [
    {
     "name": "stdout",
     "output_type": "stream",
     "text": [
      "   Number  Word Rateing    Place\n",
      "0       2  Five       6  Dharwad\n",
      "1       1  Five       3    hubli\n",
      "2       5  Five       6  Dharwad\n",
      "3       1  Five       3    hubli\n",
      "4       4   NaN     NaN      NaN\n"
     ]
    }
   ],
   "source": [
    "print(df.head())"
   ]
  },
  {
   "cell_type": "code",
   "execution_count": 183,
   "metadata": {},
   "outputs": [
    {
     "name": "stdout",
     "output_type": "stream",
     "text": [
      "    Number           Word Rateing    Place\n",
      "36       4           Five       6  Dharwad\n",
      "37       1           Five       3    hubli\n",
      "38       4           Five       6  Dharwad\n",
      "39       1           Five       3    hubli\n",
      "40    4000  Five Thousand    Rate    Place\n"
     ]
    }
   ],
   "source": [
    "print(df.tail())"
   ]
  },
  {
   "cell_type": "code",
   "execution_count": 184,
   "metadata": {},
   "outputs": [
    {
     "name": "stdout",
     "output_type": "stream",
     "text": [
      "    Number           Word Rateing    Place\n",
      "36       4           Five       6  Dharwad\n",
      "37       1           Five       3    hubli\n",
      "38       4           Five       6  Dharwad\n",
      "39       1           Five       3    hubli\n",
      "40    4000  Five Thousand    Rate    Place\n"
     ]
    }
   ],
   "source": [
    "print(df.tail())"
   ]
  },
  {
   "cell_type": "code",
   "execution_count": 200,
   "metadata": {},
   "outputs": [
    {
     "name": "stdout",
     "output_type": "stream",
     "text": [
      "(41, 4)\n",
      "    Number  Word Rateing    Place\n",
      "2        5  Five       6  Dharwad\n",
      "6        5  Five       6      NaN\n",
      "12       5  Five       6  Dharwad\n"
     ]
    },
    {
     "data": {
      "text/html": [
       "<div>\n",
       "<style scoped>\n",
       "    .dataframe tbody tr th:only-of-type {\n",
       "        vertical-align: middle;\n",
       "    }\n",
       "\n",
       "    .dataframe tbody tr th {\n",
       "        vertical-align: top;\n",
       "    }\n",
       "\n",
       "    .dataframe thead th {\n",
       "        text-align: right;\n",
       "    }\n",
       "</style>\n",
       "<table border=\"1\" class=\"dataframe\">\n",
       "  <thead>\n",
       "    <tr style=\"text-align: right;\">\n",
       "      <th></th>\n",
       "      <th>Number</th>\n",
       "      <th>Word</th>\n",
       "      <th>Rateing</th>\n",
       "      <th>Place</th>\n",
       "    </tr>\n",
       "  </thead>\n",
       "  <tbody>\n",
       "    <tr>\n",
       "      <th>0</th>\n",
       "      <td>2</td>\n",
       "      <td>Five</td>\n",
       "      <td>6</td>\n",
       "      <td>Dharwad</td>\n",
       "    </tr>\n",
       "    <tr>\n",
       "      <th>1</th>\n",
       "      <td>1</td>\n",
       "      <td>Five</td>\n",
       "      <td>3</td>\n",
       "      <td>hubli</td>\n",
       "    </tr>\n",
       "    <tr>\n",
       "      <th>2</th>\n",
       "      <td>5</td>\n",
       "      <td>Five</td>\n",
       "      <td>6</td>\n",
       "      <td>Dharwad</td>\n",
       "    </tr>\n",
       "    <tr>\n",
       "      <th>3</th>\n",
       "      <td>1</td>\n",
       "      <td>Five</td>\n",
       "      <td>3</td>\n",
       "      <td>hubli</td>\n",
       "    </tr>\n",
       "    <tr>\n",
       "      <th>4</th>\n",
       "      <td>4</td>\n",
       "      <td>4</td>\n",
       "      <td>4</td>\n",
       "      <td>4</td>\n",
       "    </tr>\n",
       "    <tr>\n",
       "      <th>5</th>\n",
       "      <td>1</td>\n",
       "      <td>Five</td>\n",
       "      <td>3</td>\n",
       "      <td>hubli</td>\n",
       "    </tr>\n",
       "    <tr>\n",
       "      <th>6</th>\n",
       "      <td>5</td>\n",
       "      <td>Five</td>\n",
       "      <td>6</td>\n",
       "      <td>6</td>\n",
       "    </tr>\n",
       "    <tr>\n",
       "      <th>7</th>\n",
       "      <td>1</td>\n",
       "      <td>Five</td>\n",
       "      <td>3</td>\n",
       "      <td>hubli</td>\n",
       "    </tr>\n",
       "    <tr>\n",
       "      <th>8</th>\n",
       "      <td>6</td>\n",
       "      <td>Five</td>\n",
       "      <td>6</td>\n",
       "      <td>Dharwad</td>\n",
       "    </tr>\n",
       "    <tr>\n",
       "      <th>9</th>\n",
       "      <td>1</td>\n",
       "      <td>Five</td>\n",
       "      <td>Five</td>\n",
       "      <td>hubli</td>\n",
       "    </tr>\n",
       "    <tr>\n",
       "      <th>10</th>\n",
       "      <td>8</td>\n",
       "      <td>Five</td>\n",
       "      <td>6</td>\n",
       "      <td>Dharwad</td>\n",
       "    </tr>\n",
       "    <tr>\n",
       "      <th>11</th>\n",
       "      <td>1</td>\n",
       "      <td>Five</td>\n",
       "      <td>3</td>\n",
       "      <td>hubli</td>\n",
       "    </tr>\n",
       "    <tr>\n",
       "      <th>12</th>\n",
       "      <td>5</td>\n",
       "      <td>Five</td>\n",
       "      <td>6</td>\n",
       "      <td>Dharwad</td>\n",
       "    </tr>\n",
       "    <tr>\n",
       "      <th>13</th>\n",
       "      <td>1</td>\n",
       "      <td>Five</td>\n",
       "      <td>3</td>\n",
       "      <td>hubli</td>\n",
       "    </tr>\n",
       "    <tr>\n",
       "      <th>14</th>\n",
       "      <td>4</td>\n",
       "      <td>Five</td>\n",
       "      <td>6</td>\n",
       "      <td>Dharwad</td>\n",
       "    </tr>\n",
       "    <tr>\n",
       "      <th>15</th>\n",
       "      <td>1</td>\n",
       "      <td>Five</td>\n",
       "      <td>3</td>\n",
       "      <td>hubli</td>\n",
       "    </tr>\n",
       "    <tr>\n",
       "      <th>16</th>\n",
       "      <td>4</td>\n",
       "      <td>Five</td>\n",
       "      <td>6</td>\n",
       "      <td>Dharwad</td>\n",
       "    </tr>\n",
       "    <tr>\n",
       "      <th>17</th>\n",
       "      <td>1</td>\n",
       "      <td>Five</td>\n",
       "      <td>3</td>\n",
       "      <td>hubli</td>\n",
       "    </tr>\n",
       "    <tr>\n",
       "      <th>18</th>\n",
       "      <td>4</td>\n",
       "      <td>Five</td>\n",
       "      <td>6</td>\n",
       "      <td>Dharwad</td>\n",
       "    </tr>\n",
       "    <tr>\n",
       "      <th>19</th>\n",
       "      <td>1</td>\n",
       "      <td>Five</td>\n",
       "      <td>3</td>\n",
       "      <td>hubli</td>\n",
       "    </tr>\n",
       "    <tr>\n",
       "      <th>20</th>\n",
       "      <td>4</td>\n",
       "      <td>Five</td>\n",
       "      <td>6</td>\n",
       "      <td>Dharwad</td>\n",
       "    </tr>\n",
       "    <tr>\n",
       "      <th>21</th>\n",
       "      <td>1</td>\n",
       "      <td>Five</td>\n",
       "      <td>3</td>\n",
       "      <td>hubli</td>\n",
       "    </tr>\n",
       "    <tr>\n",
       "      <th>22</th>\n",
       "      <td>4</td>\n",
       "      <td>Five</td>\n",
       "      <td>6</td>\n",
       "      <td>Dharwad</td>\n",
       "    </tr>\n",
       "    <tr>\n",
       "      <th>23</th>\n",
       "      <td>1</td>\n",
       "      <td>Five</td>\n",
       "      <td>3</td>\n",
       "      <td>hubli</td>\n",
       "    </tr>\n",
       "    <tr>\n",
       "      <th>24</th>\n",
       "      <td>4</td>\n",
       "      <td>Five</td>\n",
       "      <td>6</td>\n",
       "      <td>Dharwad</td>\n",
       "    </tr>\n",
       "    <tr>\n",
       "      <th>25</th>\n",
       "      <td>1</td>\n",
       "      <td>Five</td>\n",
       "      <td>3</td>\n",
       "      <td>hubli</td>\n",
       "    </tr>\n",
       "    <tr>\n",
       "      <th>26</th>\n",
       "      <td>4</td>\n",
       "      <td>Five</td>\n",
       "      <td>6</td>\n",
       "      <td>Dharwad</td>\n",
       "    </tr>\n",
       "    <tr>\n",
       "      <th>27</th>\n",
       "      <td>1</td>\n",
       "      <td>Five</td>\n",
       "      <td>3</td>\n",
       "      <td>hubli</td>\n",
       "    </tr>\n",
       "    <tr>\n",
       "      <th>28</th>\n",
       "      <td>4</td>\n",
       "      <td>Five</td>\n",
       "      <td>6</td>\n",
       "      <td>Dharwad</td>\n",
       "    </tr>\n",
       "    <tr>\n",
       "      <th>29</th>\n",
       "      <td>1</td>\n",
       "      <td>Five</td>\n",
       "      <td>3</td>\n",
       "      <td>hubli</td>\n",
       "    </tr>\n",
       "    <tr>\n",
       "      <th>30</th>\n",
       "      <td>4</td>\n",
       "      <td>Five</td>\n",
       "      <td>6</td>\n",
       "      <td>Dharwad</td>\n",
       "    </tr>\n",
       "    <tr>\n",
       "      <th>31</th>\n",
       "      <td>1</td>\n",
       "      <td>Five</td>\n",
       "      <td>3</td>\n",
       "      <td>hubli</td>\n",
       "    </tr>\n",
       "    <tr>\n",
       "      <th>32</th>\n",
       "      <td>4</td>\n",
       "      <td>Five</td>\n",
       "      <td>6</td>\n",
       "      <td>Dharwad</td>\n",
       "    </tr>\n",
       "    <tr>\n",
       "      <th>33</th>\n",
       "      <td>1</td>\n",
       "      <td>Five</td>\n",
       "      <td>3</td>\n",
       "      <td>hubli</td>\n",
       "    </tr>\n",
       "    <tr>\n",
       "      <th>34</th>\n",
       "      <td>4</td>\n",
       "      <td>Five</td>\n",
       "      <td>6</td>\n",
       "      <td>Dharwad</td>\n",
       "    </tr>\n",
       "    <tr>\n",
       "      <th>35</th>\n",
       "      <td>1</td>\n",
       "      <td>Five</td>\n",
       "      <td>3</td>\n",
       "      <td>hubli</td>\n",
       "    </tr>\n",
       "    <tr>\n",
       "      <th>36</th>\n",
       "      <td>4</td>\n",
       "      <td>Five</td>\n",
       "      <td>6</td>\n",
       "      <td>Dharwad</td>\n",
       "    </tr>\n",
       "    <tr>\n",
       "      <th>37</th>\n",
       "      <td>1</td>\n",
       "      <td>Five</td>\n",
       "      <td>3</td>\n",
       "      <td>hubli</td>\n",
       "    </tr>\n",
       "    <tr>\n",
       "      <th>38</th>\n",
       "      <td>4</td>\n",
       "      <td>Five</td>\n",
       "      <td>6</td>\n",
       "      <td>Dharwad</td>\n",
       "    </tr>\n",
       "    <tr>\n",
       "      <th>39</th>\n",
       "      <td>1</td>\n",
       "      <td>Five</td>\n",
       "      <td>3</td>\n",
       "      <td>hubli</td>\n",
       "    </tr>\n",
       "    <tr>\n",
       "      <th>40</th>\n",
       "      <td>4000</td>\n",
       "      <td>Five Thousand</td>\n",
       "      <td>Rate</td>\n",
       "      <td>Place</td>\n",
       "    </tr>\n",
       "  </tbody>\n",
       "</table>\n",
       "</div>"
      ],
      "text/plain": [
       "   Number           Word Rateing    Place\n",
       "0       2           Five       6  Dharwad\n",
       "1       1           Five       3    hubli\n",
       "2       5           Five       6  Dharwad\n",
       "3       1           Five       3    hubli\n",
       "4       4              4       4        4\n",
       "5       1           Five       3    hubli\n",
       "6       5           Five       6        6\n",
       "7       1           Five       3    hubli\n",
       "8       6           Five       6  Dharwad\n",
       "9       1           Five    Five    hubli\n",
       "10      8           Five       6  Dharwad\n",
       "11      1           Five       3    hubli\n",
       "12      5           Five       6  Dharwad\n",
       "13      1           Five       3    hubli\n",
       "14      4           Five       6  Dharwad\n",
       "15      1           Five       3    hubli\n",
       "16      4           Five       6  Dharwad\n",
       "17      1           Five       3    hubli\n",
       "18      4           Five       6  Dharwad\n",
       "19      1           Five       3    hubli\n",
       "20      4           Five       6  Dharwad\n",
       "21      1           Five       3    hubli\n",
       "22      4           Five       6  Dharwad\n",
       "23      1           Five       3    hubli\n",
       "24      4           Five       6  Dharwad\n",
       "25      1           Five       3    hubli\n",
       "26      4           Five       6  Dharwad\n",
       "27      1           Five       3    hubli\n",
       "28      4           Five       6  Dharwad\n",
       "29      1           Five       3    hubli\n",
       "30      4           Five       6  Dharwad\n",
       "31      1           Five       3    hubli\n",
       "32      4           Five       6  Dharwad\n",
       "33      1           Five       3    hubli\n",
       "34      4           Five       6  Dharwad\n",
       "35      1           Five       3    hubli\n",
       "36      4           Five       6  Dharwad\n",
       "37      1           Five       3    hubli\n",
       "38      4           Five       6  Dharwad\n",
       "39      1           Five       3    hubli\n",
       "40   4000  Five Thousand    Rate    Place"
      ]
     },
     "execution_count": 200,
     "metadata": {},
     "output_type": "execute_result"
    }
   ],
   "source": [
    "print(df.shape)\n",
    "print(df.loc[df['Number']==5])\n",
    "df.fillna(method='pad',axis=1)\n"
   ]
  },
  {
   "cell_type": "code",
   "execution_count": 213,
   "metadata": {},
   "outputs": [
    {
     "data": {
      "image/png": "[encoded data removed]",
      "text/plain": [
       "<Figure size 432x288 with 1 Axes>"
      ]
     },
     "metadata": {
      "needs_background": "light"
     },
     "output_type": "display_data"
    }
   ],
   "source": [
    "from cProfile import label\n",
    "import matplotlib.pyplot as plt\n",
    "\n",
    "x1=[1,2,3,4,6,8,1]\n",
    "y1=[10,4,1,2,2,5,5]\n",
    "\n",
    "plt.plot(x1,y1,label='Line 1')\n",
    "x2=[1,2,2,4]\n",
    "y2=[4,1,3,3]\n",
    "\n",
    "plt.plot(x2,y2,label='Line 2')\n",
    "\n",
    "plt.xlabel('Temp')\n",
    "plt.ylabel('Resistance')\n",
    "\n",
    "plt.title('Temperature Variation affecting resistance')\n",
    "plt.legend()\n",
    "plt.show()\n"
   ]
  },
  {
   "cell_type": "code",
   "execution_count": 219,
   "metadata": {},
   "outputs": [
    {
     "data": {
      "image/png": "[encoded data removed]",
      "text/plain": [
       "<Figure size 432x288 with 1 Axes>"
      ]
     },
     "metadata": {
      "needs_background": "light"
     },
     "output_type": "display_data"
    }
   ],
   "source": [
    "import numpy as np\n",
    "import matplotlib.pyplot as plt\n",
    "import matplotlib.animation as animation\n",
    "\n",
    "fig, ax = plt.subplots()\n",
    "\n",
    "x = np.arange(0, 2*np.pi, 0.01)\n",
    "line, = ax.plot(x, np.sin(x))\n",
    "\n",
    "\n",
    "def animate(i):\n",
    "    line.set_ydata(np.sin(x + i / 50))  # update the data.\n",
    "    return line,\n",
    "\n",
    "\n",
    "ani = animation.FuncAnimation(\n",
    "    fig, animate, interval=100, blit=True, save_count=50)\n",
    "\n",
    "plt.show()\n",
    "\n",
    "writergif = animation.PillowWriter(fps=50)\n",
    "ani.save('animated_graph.gif',writer=writergif)"
   ]
  },
  {
   "cell_type": "code",
   "execution_count": 259,
   "metadata": {},
   "outputs": [
    {
     "data": {
      "image/png": "[encoded data removed]",
      "text/plain": [
       "<Figure size 432x288 with 1 Axes>"
      ]
     },
     "metadata": {
      "needs_background": "light"
     },
     "output_type": "display_data"
    }
   ],
   "source": [
    "from turtle import color\n",
    "import matplotlib.pyplot as plt\n",
    "x=[2,1,1,2,4]\n",
    "\n",
    "y=[4,6,3,3,5]\n",
    "\n",
    "plt.scatter(x,y,label='Stars', color=\"blue\",marker=\"$R$\",s=20)\n",
    "plt.show()"
   ]
  },
  {
   "cell_type": "code",
   "execution_count": 278,
   "metadata": {},
   "outputs": [
    {
     "data": {
      "image/png": "[encoded data removed]",
      "text/plain": [
       "<Figure size 432x288 with 1 Axes>"
      ]
     },
     "metadata": {},
     "output_type": "display_data"
    }
   ],
   "source": [
    "import matplotlib.pyplot as plt\n",
    "activities=['eat','sleep','work','play']\n",
    "\n",
    "slices=[2,7,12,3]\n",
    "colors = ['r','y','g','b']\n",
    "\n",
    "plt.pie(slices, labels=activities,colors=colors,explode=(0.1,0,0,0),startangle=90, shadow=True,radius=2.0,autopct='%1.2f%%')\n",
    "plt.show()"
   ]
  },
  {
   "cell_type": "code",
   "execution_count": 289,
   "metadata": {},
   "outputs": [
    {
     "data": {
      "image/png": "[encoded data removed]",
      "text/plain": [
       "<Figure size 720x720 with 1 Axes>"
      ]
     },
     "metadata": {
      "needs_background": "light"
     },
     "output_type": "display_data"
    }
   ],
   "source": [
    "from matplotlib import pyplot as plt\n",
    "import numpy as np\n",
    "# Creating dataset\n",
    "a = np.array([10, 20, 26, 26,26, 10,51,76,51])\n",
    "\n",
    "# Creating histogram\n",
    "fig, ax = plt.subplots(figsize =(10, 10))\n",
    "ax.hist(a, bins = [0,  60, 100])\n",
    "# Show plot\n",
    "plt.show()\n"
   ]
  },
  {
   "cell_type": "code",
   "execution_count": 293,
   "metadata": {},
   "outputs": [
    {
     "data": {
      "image/png": "[encoded data removed]",
      "text/plain": [
       "<Figure size 432x288 with 1 Axes>"
      ]
     },
     "metadata": {
      "needs_background": "light"
     },
     "output_type": "display_data"
    }
   ],
   "source": [
    "# importing the required modules\n",
    "import matplotlib.pyplot as plt\n",
    "import numpy as np\n",
    "# setting the x - coordinates\n",
    "x = np.arange(0, 2*(np.pi), 0.1)\n",
    "# setting the corresponding y - coordinates\n",
    "y = np.sin(x)\n",
    "# plotting the points\n",
    "plt.plot(x, y)\n",
    "# function to show the plot\n",
    "plt.show()\n"
   ]
  },
  {
   "cell_type": "markdown",
   "metadata": {},
   "source": [
    "d=root of (x2-x1)^2  + (y2-y1)^2"
   ]
  },
  {
   "cell_type": "code",
   "execution_count": 2,
   "metadata": {},
   "outputs": [
    {
     "name": "stdout",
     "output_type": "stream",
     "text": [
      "2.0\n"
     ]
    }
   ],
   "source": [
    "from math import sqrt\n",
    "x1=170\n",
    "x2=170\n",
    "y1=55\n",
    "y2=57\n",
    "d=sqrt((x2-x1)**2 + (y2-y1)**2)\n",
    "print(d)"
   ]
  },
  {
   "cell_type": "code",
   "execution_count": 28,
   "metadata": {},
   "outputs": [
    {
     "data": {
      "text/plain": [
       "array([1])"
      ]
     },
     "execution_count": 28,
     "metadata": {},
     "output_type": "execute_result"
    }
   ],
   "source": [
    "from sklearn import svm\n",
    "x=[[0,0],[2,2]]\n",
    "y=[0,1]\n",
    "clf = svm.SVC()\n",
    "clf.fit(x,y)\n",
    "clf.predict([[4.,4.]])\n"
   ]
  }
 ],
 "metadata": {
  "kernelspec": {
   "display_name": "Python 3.8.5 ('base')",
   "language": "python",
   "name": "python3"
  },
  "language_info": {
   "codemirror_mode": {
    "name": "ipython",
    "version": 3
   },
   "file_extension": ".py",
   "mimetype": "text/x-python",
   "name": "python",
   "nbconvert_exporter": "python",
   "pygments_lexer": "ipython3",
   "version": "3.8.5"
  },
  "orig_nbformat": 4,
  "vscode": {
   "interpreter": {
    "hash": "ad2bdc8ecc057115af97d19610ffacc2b4e99fae6737bb82f5d7fb13d2f2c186"
   }
  }
 },
 "nbformat": 4,
 "nbformat_minor": 2
}
