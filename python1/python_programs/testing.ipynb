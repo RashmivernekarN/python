{
 "cells": [
  {
   "cell_type": "code",
   "execution_count": null,
   "metadata": {},
   "outputs": [
    {
     "ename": "",
     "evalue": "",
     "output_type": "error",
     "traceback": [
      "\u001b[1;31mFailed to start the Kernel. \n",
      "Unable to start Kernel 'Python 3.10.5 64-bit' due to connection timeout. \n",
      "View Jupyter <a href='command:jupyter.viewOutput'>log</a> for further details."
     ]
    }
   ],
   "source": [
    "list1=[10,20,30]\n",
    "list1.append(50)\n",
    "print(list1)"
   ]
  },
  {
   "cell_type": "code",
   "execution_count": null,
   "metadata": {},
   "outputs": [],
   "source": [
    "def fun(list1):\n",
    "    result=0\n",
    "    for index in range(len(list1)):\n",
    "        result= result + list1[index]\n",
    "    print('rersult of',list1,'is',result)\n",
    "list1=[10,20,30,40,50,60,70,80]\n",
    "fun(list1)"
   ]
  },
  {
   "cell_type": "code",
   "execution_count": null,
   "metadata": {},
   "outputs": [],
   "source": [
    "#function to merge two lists\n",
    "#as group of 1 number\n",
    "\n",
    "def merge_fun(list1,list2):\n",
    "    merged_list= zip(list1,list2)\n",
    "    print(dict(merged_list))\n",
    "\n",
    "list1=[1,2,3]\n",
    "list2=['alpha','gama','gama']\n",
    "merge_fun(list1,list2)\n"
   ]
  }
 ],
 "metadata": {
  "kernelspec": {
   "display_name": "Python 3.10.5 64-bit",
   "language": "python",
   "name": "python3"
  },
  "language_info": {
   "name": "python",
   "version": "3.10.5"
  },
  "orig_nbformat": 4,
  "vscode": {
   "interpreter": {
    "hash": "8590bbf9f086dc09c24323e1c6d328eb1481e661c000a10615efc30be9af1730"
   }
  }
 },
 "nbformat": 4,
 "nbformat_minor": 2
}
