{
 "cells": [
  {
   "cell_type": "code",
   "execution_count": 92,
   "metadata": {},
   "outputs": [
    {
     "name": "stdout",
     "output_type": "stream",
     "text": [
      "30\n",
      "[10, 20, 40]\n",
      "[10, 20, 40, 30]\n"
     ]
    }
   ],
   "source": [
    "\n",
    "list1=[10,20,30,40]\n",
    "print(list1.pop(2))\n",
    "print(list1)\n",
    "list1.append(30)\n",
    "print(list1)"
   ]
  },
  {
   "cell_type": "code",
   "execution_count": 93,
   "metadata": {},
   "outputs": [
    {
     "name": "stdout",
     "output_type": "stream",
     "text": [
      "[10, 20, 40, 30, 40]\n"
     ]
    }
   ],
   "source": [
    "list1.append(40)\n",
    "print(list1)"
   ]
  },
  {
   "cell_type": "code",
   "execution_count": 94,
   "metadata": {},
   "outputs": [
    {
     "name": "stdout",
     "output_type": "stream",
     "text": [
      "[10, 20, 40, 30, 40, 40]\n"
     ]
    }
   ],
   "source": [
    "list1.append(40)\n",
    "print(list1)"
   ]
  },
  {
   "cell_type": "code",
   "execution_count": 99,
   "metadata": {},
   "outputs": [
    {
     "name": "stdout",
     "output_type": "stream",
     "text": [
      "[200, 200, 200, 40, 30, 10, 200, 200]\n",
      "[200, 200, 10, 30, 40, 200, 200, 200]\n",
      "[200, 200, 200, 40, 30, 10, 200, 200]\n",
      "[10, 30, 40, 200, 200, 200, 200, 200]\n"
     ]
    }
   ],
   "source": [
    "list1.append(200)\n",
    "print(list1)\n",
    "\n",
    "# print(list1[-1])\n",
    "# list1.pop(2)\n",
    "# print(list1)\n",
    "# list1.remove(20)\n",
    "# print(list1)\n",
    "list1.reverse()\n",
    "print(list1)\n",
    "list1.reverse()\n",
    "print(list1)\n",
    "list1.sort()\n",
    "print(list1)"
   ]
  }
 ],
 "metadata": {
  "kernelspec": {
   "display_name": "Python 3.8.5 ('base')",
   "language": "python",
   "name": "python3"
  },
  "language_info": {
   "codemirror_mode": {
    "name": "ipython",
    "version": 3
   },
   "file_extension": ".py",
   "mimetype": "text/x-python",
   "name": "python",
   "nbconvert_exporter": "python",
   "pygments_lexer": "ipython3",
   "version": "3.8.5"
  },
  "orig_nbformat": 4,
  "vscode": {
   "interpreter": {
    "hash": "ad2bdc8ecc057115af97d19610ffacc2b4e99fae6737bb82f5d7fb13d2f2c186"
   }
  }
 },
 "nbformat": 4,
 "nbformat_minor": 2
}
