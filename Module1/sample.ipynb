{
 "cells": [
  {
   "cell_type": "code",
   "execution_count": 4,
   "metadata": {},
   "outputs": [
    {
     "name": "stdout",
     "output_type": "stream",
     "text": [
      "((0, 1, 2, 3), ('Python', 'Programming', 'World', 'of', 'possibilities'))\n",
      "(0, 1, 2, 3) 10 10.5\n",
      "(0, 1, 2, 3, 'Python', 'Programming', 'World', 'of', 'possibilities', (0, 1, 2, 3), ('Python', 'Programming', 'World', 'of', 'possibilities'))\n"
     ]
    }
   ],
   "source": [
    "Tuple1 = (0,1,2,3)\n",
    "Tuple2 = ('Python','Programming','World','of','possibilities')\n",
    "Tuple3 = (Tuple1, Tuple2)\n",
    "print(Tuple3)\n",
    "a=10\n",
    "b=10.5\n",
    "Tuple4 = Tuple1 + Tuple2\n",
    "\n",
    "print(Tuple1,a,b)\n",
    "\n",
    "Tuple5 = Tuple4+Tuple3\n",
    "\n",
    "print(Tuple5)"
   ]
  }
 ],
 "metadata": {
  "kernelspec": {
   "display_name": "Python 3.8.5 ('base')",
   "language": "python",
   "name": "python3"
  },
  "language_info": {
   "codemirror_mode": {
    "name": "ipython",
    "version": 3
   },
   "file_extension": ".py",
   "mimetype": "text/x-python",
   "name": "python",
   "nbconvert_exporter": "python",
   "pygments_lexer": "ipython3",
   "version": "3.8.5"
  },
  "orig_nbformat": 4,
  "vscode": {
   "interpreter": {
    "hash": "ad2bdc8ecc057115af97d19610ffacc2b4e99fae6737bb82f5d7fb13d2f2c186"
   }
  }
 },
 "nbformat": 4,
 "nbformat_minor": 2
}
