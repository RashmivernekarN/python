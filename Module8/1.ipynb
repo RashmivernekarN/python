{
 "cells": [
  {
   "cell_type": "code",
   "execution_count": 2,
   "metadata": {},
   "outputs": [],
   "source": [
    "from sklearn.linear_model  import LinearRegression\n",
    "import random\n"
   ]
  },
  {
   "cell_type": "code",
   "execution_count": 3,
   "metadata": {},
   "outputs": [],
   "source": [
    "feature_set = []\n",
    "target_set = []"
   ]
  },
  {
   "cell_type": "code",
   "execution_count": 4,
   "metadata": {},
   "outputs": [],
   "source": [
    "number_of_rows =10\n",
    "random_number_limit =10"
   ]
  },
  {
   "cell_type": "code",
   "execution_count": 5,
   "metadata": {},
   "outputs": [],
   "source": [
    "for i in range(number_of_rows):\n",
    "    x= random.randint(0,random_number_limit)\n",
    "    y= random.randint(0,random_number_limit)\n",
    "    z= random.randint(0,random_number_limit)\n",
    "    function = (10*x)+(2*y)+(3*z)+(1*x)\n",
    "    feature_set.append([x,y,z])\n",
    "    target_set.append(function)"
   ]
  },
  {
   "cell_type": "code",
   "execution_count": 6,
   "metadata": {},
   "outputs": [
    {
     "data": {
      "text/plain": [
       "LinearRegression()"
      ]
     },
     "execution_count": 6,
     "metadata": {},
     "output_type": "execute_result"
    }
   ],
   "source": [
    "model = LinearRegression()\n",
    "model.fit(feature_set, target_set)"
   ]
  },
  {
   "cell_type": "code",
   "execution_count": 7,
   "metadata": {},
   "outputs": [
    {
     "name": "stdout",
     "output_type": "stream",
     "text": [
      "predicted Value: [75.]Coefficients:[11.  2.  3.]\n"
     ]
    }
   ],
   "source": [
    "test_set= [[6,3,1]]\n",
    "\n",
    "prediction = model.predict(test_set)\n",
    "print('predicted Value: '+str(prediction)+'Coefficients:'+str(model.coef_)) \n"
   ]
  },
  {
   "cell_type": "code",
   "execution_count": 8,
   "metadata": {},
   "outputs": [],
   "source": [
    "import cv2\n",
    "import imutils\n",
    "\n",
    "# Initializing the HOG person detector\n",
    "hog = cv2.HOGDescriptor()\n",
    "hog.setSVMDetector(cv2.HOGDescriptor_getDefaultPeopleDetector())\n",
    "\n",
    "# Reading the Image\n",
    "image = cv2.imread('C:/Users/User/Desktop/img.jpg')\n",
    "\n",
    "# Resizing the Image\n",
    "image = imutils.resize(image,width=min(400, image.shape[1]))\n",
    "\n",
    "# Detecting all the regions in the image that has a pedestrians inside it\n",
    "(regions, _) = hog.detectMultiScale(image,winStride=(4, 4),padding=(4, 4),scale=1.05)\n",
    "\n",
    "# Drawing the regions in the Image\n",
    "for (x, y, w, h) in regions:\n",
    "    cv2.rectangle(image, (x, y),(x + w, y + h),(0, 0, 255), 2)\n",
    "\n",
    "# Showing the output Image\n",
    "cv2.imshow(\"Image\", image)\n",
    "cv2.waitKey(0)\n",
    "cv2.destroyAllWindows()"
   ]
  },
  {
   "cell_type": "code",
   "execution_count": 11,
   "metadata": {},
   "outputs": [],
   "source": [
    "import cv2\n",
    "\n",
    "image = cv2.imread('C:/Users/User/Desktop/img.jpg')\n",
    "# cv2.imshow('Image name',image)\n",
    "out=image.copy()\n",
    "h, w = image.shape[:2]\n",
    "rectangle = cv2.rectangle(out, (w,h),(w//3,h//4), (0, 255, 0), 10)\n",
    "cv2.imshow('Rect',rectangle)\n",
    "\n",
    "# center = (w // 2, h // 2)\n",
    "# print(center)\n",
    "# matrix =cv2.getRotationMatrix2D(center,0,1.0)\n",
    "# rotation = cv2.warpAffine(image,matrix,(w,h))\n",
    "# cv2.imshow('Image name',rotation)\n",
    "# rectangle = cv2.rectangle(rotation, (w,h),(w//2,h//2), (255, 0, 0), 2)\n",
    "cv2.waitKey(0)\n",
    "cv2.destroyAllWindows()"
   ]
  }
 ],
 "metadata": {
  "kernelspec": {
   "display_name": "Python 3.8.5 ('base')",
   "language": "python",
   "name": "python3"
  },
  "language_info": {
   "codemirror_mode": {
    "name": "ipython",
    "version": 3
   },
   "file_extension": ".py",
   "mimetype": "text/x-python",
   "name": "python",
   "nbconvert_exporter": "python",
   "pygments_lexer": "ipython3",
   "version": "3.8.5"
  },
  "orig_nbformat": 4,
  "vscode": {
   "interpreter": {
    "hash": "ad2bdc8ecc057115af97d19610ffacc2b4e99fae6737bb82f5d7fb13d2f2c186"
   }
  }
 },
 "nbformat": 4,
 "nbformat_minor": 2
}
